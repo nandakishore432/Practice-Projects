{
 "cells": [
  {
   "cell_type": "markdown",
   "id": "b95a6350",
   "metadata": {},
   "source": [
    "# The Titanic Survivor llist prediction Project"
   ]
  },
  {
   "cell_type": "markdown",
   "id": "dfb977aa",
   "metadata": {},
   "source": [
    "## Project Description"
   ]
  },
  {
   "cell_type": "markdown",
   "id": "7e841ddd",
   "metadata": {},
   "source": [
    "The RMS Titanic was a British passenger liner that sank in the North Atlantic Ocean in the early morning hours of 15 April 1912, after it collided with an iceberg during its maiden voyage from Southampton to New York City. There were an estimated 2,224 passengers and crew aboard the ship, and more than 1,500 died, making it one of the deadliest commercial peacetime maritime disasters in modern history. The RMS Titanic was the largest ship afloat at the time it entered service and was the second of three Olympic-class ocean liners operated by the White Star Line. The Titanic was built by the Harland and Wolff shipyard in Belfast. Thomas Andrews, her architect, died in the disaster."
   ]
  },
  {
   "cell_type": "markdown",
   "id": "75e4dd02",
   "metadata": {},
   "source": [
    "In the early hours of April 15, 1912, the British passenger liner Titanic perished in the North Atlantic Ocean after colliding with an iceberg on its inaugural journey from Southampton to New York City. The ship carried an estimated 2,224 passengers and crew members, making it one of the biggest commercial peacetime maritime disasters in modern history with almost 1,500 fatalities. The second of three Olympic-class ocean liners run by the White Star Line, the RMS Titanic was the biggest ship in existence when it entered service. Belfast's Harland & Wolff shipyard constructed the Titanic. Her architect, Thomas Andrews, perished in the catastrophe."
   ]
  },
  {
   "cell_type": "markdown",
   "id": "a27dd6e4",
   "metadata": {},
   "source": [
    "### Let's Import majorly required Libraries and Later lets import based on requirements"
   ]
  },
  {
   "cell_type": "code",
   "execution_count": 129,
   "id": "fb6e7274",
   "metadata": {},
   "outputs": [],
   "source": [
    "import pandas as pd # For solving problems on linear algebra\n",
    "import numpy as np # Import for data processing\n",
    "import seaborn as sns # import seaborn for data visualization\n",
    "#import matplotlib inline\n",
    "import matplotlib.pyplot as plt\n",
    "from matplotlib import style\n",
    "import warnings\n",
    "warnings.filterwarnings('ignore')"
   ]
  },
  {
   "cell_type": "markdown",
   "id": "d896e3ac",
   "metadata": {},
   "source": [
    "## Import Dataset"
   ]
  },
  {
   "cell_type": "code",
   "execution_count": 130,
   "id": "f5ceb260",
   "metadata": {},
   "outputs": [
    {
     "data": {
      "text/html": [
       "<div>\n",
       "<style scoped>\n",
       "    .dataframe tbody tr th:only-of-type {\n",
       "        vertical-align: middle;\n",
       "    }\n",
       "\n",
       "    .dataframe tbody tr th {\n",
       "        vertical-align: top;\n",
       "    }\n",
       "\n",
       "    .dataframe thead th {\n",
       "        text-align: right;\n",
       "    }\n",
       "</style>\n",
       "<table border=\"1\" class=\"dataframe\">\n",
       "  <thead>\n",
       "    <tr style=\"text-align: right;\">\n",
       "      <th></th>\n",
       "      <th>PassengerId</th>\n",
       "      <th>Survived</th>\n",
       "      <th>Pclass</th>\n",
       "      <th>Name</th>\n",
       "      <th>Sex</th>\n",
       "      <th>Age</th>\n",
       "      <th>SibSp</th>\n",
       "      <th>Parch</th>\n",
       "      <th>Ticket</th>\n",
       "      <th>Fare</th>\n",
       "      <th>Cabin</th>\n",
       "      <th>Embarked</th>\n",
       "    </tr>\n",
       "  </thead>\n",
       "  <tbody>\n",
       "    <tr>\n",
       "      <th>0</th>\n",
       "      <td>1</td>\n",
       "      <td>0</td>\n",
       "      <td>3</td>\n",
       "      <td>Braund, Mr. Owen Harris</td>\n",
       "      <td>male</td>\n",
       "      <td>22.0</td>\n",
       "      <td>1</td>\n",
       "      <td>0</td>\n",
       "      <td>A/5 21171</td>\n",
       "      <td>7.2500</td>\n",
       "      <td>NaN</td>\n",
       "      <td>S</td>\n",
       "    </tr>\n",
       "    <tr>\n",
       "      <th>1</th>\n",
       "      <td>2</td>\n",
       "      <td>1</td>\n",
       "      <td>1</td>\n",
       "      <td>Cumings, Mrs. John Bradley (Florence Briggs Th...</td>\n",
       "      <td>female</td>\n",
       "      <td>38.0</td>\n",
       "      <td>1</td>\n",
       "      <td>0</td>\n",
       "      <td>PC 17599</td>\n",
       "      <td>71.2833</td>\n",
       "      <td>C85</td>\n",
       "      <td>C</td>\n",
       "    </tr>\n",
       "    <tr>\n",
       "      <th>2</th>\n",
       "      <td>3</td>\n",
       "      <td>1</td>\n",
       "      <td>3</td>\n",
       "      <td>Heikkinen, Miss. Laina</td>\n",
       "      <td>female</td>\n",
       "      <td>26.0</td>\n",
       "      <td>0</td>\n",
       "      <td>0</td>\n",
       "      <td>STON/O2. 3101282</td>\n",
       "      <td>7.9250</td>\n",
       "      <td>NaN</td>\n",
       "      <td>S</td>\n",
       "    </tr>\n",
       "    <tr>\n",
       "      <th>3</th>\n",
       "      <td>4</td>\n",
       "      <td>1</td>\n",
       "      <td>1</td>\n",
       "      <td>Futrelle, Mrs. Jacques Heath (Lily May Peel)</td>\n",
       "      <td>female</td>\n",
       "      <td>35.0</td>\n",
       "      <td>1</td>\n",
       "      <td>0</td>\n",
       "      <td>113803</td>\n",
       "      <td>53.1000</td>\n",
       "      <td>C123</td>\n",
       "      <td>S</td>\n",
       "    </tr>\n",
       "    <tr>\n",
       "      <th>4</th>\n",
       "      <td>5</td>\n",
       "      <td>0</td>\n",
       "      <td>3</td>\n",
       "      <td>Allen, Mr. William Henry</td>\n",
       "      <td>male</td>\n",
       "      <td>35.0</td>\n",
       "      <td>0</td>\n",
       "      <td>0</td>\n",
       "      <td>373450</td>\n",
       "      <td>8.0500</td>\n",
       "      <td>NaN</td>\n",
       "      <td>S</td>\n",
       "    </tr>\n",
       "    <tr>\n",
       "      <th>...</th>\n",
       "      <td>...</td>\n",
       "      <td>...</td>\n",
       "      <td>...</td>\n",
       "      <td>...</td>\n",
       "      <td>...</td>\n",
       "      <td>...</td>\n",
       "      <td>...</td>\n",
       "      <td>...</td>\n",
       "      <td>...</td>\n",
       "      <td>...</td>\n",
       "      <td>...</td>\n",
       "      <td>...</td>\n",
       "    </tr>\n",
       "    <tr>\n",
       "      <th>886</th>\n",
       "      <td>887</td>\n",
       "      <td>0</td>\n",
       "      <td>2</td>\n",
       "      <td>Montvila, Rev. Juozas</td>\n",
       "      <td>male</td>\n",
       "      <td>27.0</td>\n",
       "      <td>0</td>\n",
       "      <td>0</td>\n",
       "      <td>211536</td>\n",
       "      <td>13.0000</td>\n",
       "      <td>NaN</td>\n",
       "      <td>S</td>\n",
       "    </tr>\n",
       "    <tr>\n",
       "      <th>887</th>\n",
       "      <td>888</td>\n",
       "      <td>1</td>\n",
       "      <td>1</td>\n",
       "      <td>Graham, Miss. Margaret Edith</td>\n",
       "      <td>female</td>\n",
       "      <td>19.0</td>\n",
       "      <td>0</td>\n",
       "      <td>0</td>\n",
       "      <td>112053</td>\n",
       "      <td>30.0000</td>\n",
       "      <td>B42</td>\n",
       "      <td>S</td>\n",
       "    </tr>\n",
       "    <tr>\n",
       "      <th>888</th>\n",
       "      <td>889</td>\n",
       "      <td>0</td>\n",
       "      <td>3</td>\n",
       "      <td>Johnston, Miss. Catherine Helen \"Carrie\"</td>\n",
       "      <td>female</td>\n",
       "      <td>NaN</td>\n",
       "      <td>1</td>\n",
       "      <td>2</td>\n",
       "      <td>W./C. 6607</td>\n",
       "      <td>23.4500</td>\n",
       "      <td>NaN</td>\n",
       "      <td>S</td>\n",
       "    </tr>\n",
       "    <tr>\n",
       "      <th>889</th>\n",
       "      <td>890</td>\n",
       "      <td>1</td>\n",
       "      <td>1</td>\n",
       "      <td>Behr, Mr. Karl Howell</td>\n",
       "      <td>male</td>\n",
       "      <td>26.0</td>\n",
       "      <td>0</td>\n",
       "      <td>0</td>\n",
       "      <td>111369</td>\n",
       "      <td>30.0000</td>\n",
       "      <td>C148</td>\n",
       "      <td>C</td>\n",
       "    </tr>\n",
       "    <tr>\n",
       "      <th>890</th>\n",
       "      <td>891</td>\n",
       "      <td>0</td>\n",
       "      <td>3</td>\n",
       "      <td>Dooley, Mr. Patrick</td>\n",
       "      <td>male</td>\n",
       "      <td>32.0</td>\n",
       "      <td>0</td>\n",
       "      <td>0</td>\n",
       "      <td>370376</td>\n",
       "      <td>7.7500</td>\n",
       "      <td>NaN</td>\n",
       "      <td>Q</td>\n",
       "    </tr>\n",
       "  </tbody>\n",
       "</table>\n",
       "<p>891 rows × 12 columns</p>\n",
       "</div>"
      ],
      "text/plain": [
       "     PassengerId  Survived  Pclass  \\\n",
       "0              1         0       3   \n",
       "1              2         1       1   \n",
       "2              3         1       3   \n",
       "3              4         1       1   \n",
       "4              5         0       3   \n",
       "..           ...       ...     ...   \n",
       "886          887         0       2   \n",
       "887          888         1       1   \n",
       "888          889         0       3   \n",
       "889          890         1       1   \n",
       "890          891         0       3   \n",
       "\n",
       "                                                  Name     Sex   Age  SibSp  \\\n",
       "0                              Braund, Mr. Owen Harris    male  22.0      1   \n",
       "1    Cumings, Mrs. John Bradley (Florence Briggs Th...  female  38.0      1   \n",
       "2                               Heikkinen, Miss. Laina  female  26.0      0   \n",
       "3         Futrelle, Mrs. Jacques Heath (Lily May Peel)  female  35.0      1   \n",
       "4                             Allen, Mr. William Henry    male  35.0      0   \n",
       "..                                                 ...     ...   ...    ...   \n",
       "886                              Montvila, Rev. Juozas    male  27.0      0   \n",
       "887                       Graham, Miss. Margaret Edith  female  19.0      0   \n",
       "888           Johnston, Miss. Catherine Helen \"Carrie\"  female   NaN      1   \n",
       "889                              Behr, Mr. Karl Howell    male  26.0      0   \n",
       "890                                Dooley, Mr. Patrick    male  32.0      0   \n",
       "\n",
       "     Parch            Ticket     Fare Cabin Embarked  \n",
       "0        0         A/5 21171   7.2500   NaN        S  \n",
       "1        0          PC 17599  71.2833   C85        C  \n",
       "2        0  STON/O2. 3101282   7.9250   NaN        S  \n",
       "3        0            113803  53.1000  C123        S  \n",
       "4        0            373450   8.0500   NaN        S  \n",
       "..     ...               ...      ...   ...      ...  \n",
       "886      0            211536  13.0000   NaN        S  \n",
       "887      0            112053  30.0000   B42        S  \n",
       "888      2        W./C. 6607  23.4500   NaN        S  \n",
       "889      0            111369  30.0000  C148        C  \n",
       "890      0            370376   7.7500   NaN        Q  \n",
       "\n",
       "[891 rows x 12 columns]"
      ]
     },
     "execution_count": 130,
     "metadata": {},
     "output_type": "execute_result"
    }
   ],
   "source": [
    "# Lets Import Data set using the link given in the survivors in titanic project description and read it to see number of Rows x Columns\n",
    "titanic_df=pd.read_csv('https://raw.githubusercontent.com/dsrscientist/dataset1/master/titanic_train.csv')\n",
    "titanic_df"
   ]
  },
  {
   "cell_type": "code",
   "execution_count": 131,
   "id": "1002d7cd",
   "metadata": {},
   "outputs": [
    {
     "data": {
      "text/html": [
       "<div>\n",
       "<style scoped>\n",
       "    .dataframe tbody tr th:only-of-type {\n",
       "        vertical-align: middle;\n",
       "    }\n",
       "\n",
       "    .dataframe tbody tr th {\n",
       "        vertical-align: top;\n",
       "    }\n",
       "\n",
       "    .dataframe thead th {\n",
       "        text-align: right;\n",
       "    }\n",
       "</style>\n",
       "<table border=\"1\" class=\"dataframe\">\n",
       "  <thead>\n",
       "    <tr style=\"text-align: right;\">\n",
       "      <th></th>\n",
       "      <th>PassengerId</th>\n",
       "      <th>Survived</th>\n",
       "      <th>Pclass</th>\n",
       "      <th>Name</th>\n",
       "      <th>Sex</th>\n",
       "      <th>Age</th>\n",
       "      <th>SibSp</th>\n",
       "      <th>Parch</th>\n",
       "      <th>Ticket</th>\n",
       "      <th>Fare</th>\n",
       "      <th>Cabin</th>\n",
       "      <th>Embarked</th>\n",
       "    </tr>\n",
       "  </thead>\n",
       "  <tbody>\n",
       "    <tr>\n",
       "      <th>0</th>\n",
       "      <td>1</td>\n",
       "      <td>0</td>\n",
       "      <td>3</td>\n",
       "      <td>Braund, Mr. Owen Harris</td>\n",
       "      <td>male</td>\n",
       "      <td>22.0</td>\n",
       "      <td>1</td>\n",
       "      <td>0</td>\n",
       "      <td>A/5 21171</td>\n",
       "      <td>7.2500</td>\n",
       "      <td>NaN</td>\n",
       "      <td>S</td>\n",
       "    </tr>\n",
       "    <tr>\n",
       "      <th>1</th>\n",
       "      <td>2</td>\n",
       "      <td>1</td>\n",
       "      <td>1</td>\n",
       "      <td>Cumings, Mrs. John Bradley (Florence Briggs Th...</td>\n",
       "      <td>female</td>\n",
       "      <td>38.0</td>\n",
       "      <td>1</td>\n",
       "      <td>0</td>\n",
       "      <td>PC 17599</td>\n",
       "      <td>71.2833</td>\n",
       "      <td>C85</td>\n",
       "      <td>C</td>\n",
       "    </tr>\n",
       "    <tr>\n",
       "      <th>2</th>\n",
       "      <td>3</td>\n",
       "      <td>1</td>\n",
       "      <td>3</td>\n",
       "      <td>Heikkinen, Miss. Laina</td>\n",
       "      <td>female</td>\n",
       "      <td>26.0</td>\n",
       "      <td>0</td>\n",
       "      <td>0</td>\n",
       "      <td>STON/O2. 3101282</td>\n",
       "      <td>7.9250</td>\n",
       "      <td>NaN</td>\n",
       "      <td>S</td>\n",
       "    </tr>\n",
       "    <tr>\n",
       "      <th>3</th>\n",
       "      <td>4</td>\n",
       "      <td>1</td>\n",
       "      <td>1</td>\n",
       "      <td>Futrelle, Mrs. Jacques Heath (Lily May Peel)</td>\n",
       "      <td>female</td>\n",
       "      <td>35.0</td>\n",
       "      <td>1</td>\n",
       "      <td>0</td>\n",
       "      <td>113803</td>\n",
       "      <td>53.1000</td>\n",
       "      <td>C123</td>\n",
       "      <td>S</td>\n",
       "    </tr>\n",
       "    <tr>\n",
       "      <th>4</th>\n",
       "      <td>5</td>\n",
       "      <td>0</td>\n",
       "      <td>3</td>\n",
       "      <td>Allen, Mr. William Henry</td>\n",
       "      <td>male</td>\n",
       "      <td>35.0</td>\n",
       "      <td>0</td>\n",
       "      <td>0</td>\n",
       "      <td>373450</td>\n",
       "      <td>8.0500</td>\n",
       "      <td>NaN</td>\n",
       "      <td>S</td>\n",
       "    </tr>\n",
       "  </tbody>\n",
       "</table>\n",
       "</div>"
      ],
      "text/plain": [
       "   PassengerId  Survived  Pclass  \\\n",
       "0            1         0       3   \n",
       "1            2         1       1   \n",
       "2            3         1       3   \n",
       "3            4         1       1   \n",
       "4            5         0       3   \n",
       "\n",
       "                                                Name     Sex   Age  SibSp  \\\n",
       "0                            Braund, Mr. Owen Harris    male  22.0      1   \n",
       "1  Cumings, Mrs. John Bradley (Florence Briggs Th...  female  38.0      1   \n",
       "2                             Heikkinen, Miss. Laina  female  26.0      0   \n",
       "3       Futrelle, Mrs. Jacques Heath (Lily May Peel)  female  35.0      1   \n",
       "4                           Allen, Mr. William Henry    male  35.0      0   \n",
       "\n",
       "   Parch            Ticket     Fare Cabin Embarked  \n",
       "0      0         A/5 21171   7.2500   NaN        S  \n",
       "1      0          PC 17599  71.2833   C85        C  \n",
       "2      0  STON/O2. 3101282   7.9250   NaN        S  \n",
       "3      0            113803  53.1000  C123        S  \n",
       "4      0            373450   8.0500   NaN        S  "
      ]
     },
     "execution_count": 131,
     "metadata": {},
     "output_type": "execute_result"
    }
   ],
   "source": [
    "#Lets check head of the DataFrame retrieved using df.head()\n",
    "titanic_df.head()"
   ]
  },
  {
   "cell_type": "markdown",
   "id": "836b6e47",
   "metadata": {},
   "source": [
    "Several things can be observed from the table above. \n",
    "\n",
    "First of all, many features must first be converted into quantitative ones before being processed by machine learning algorithms. \n",
    "\n",
    "Furthermore, it is clear that the ranges of the features are extremely dissimilar, which we must translate into a scale that is relatively equivalent. \n",
    "\n",
    "We can also identify additional features that have missing values (NaN = not a number) that require our attention."
   ]
  },
  {
   "cell_type": "code",
   "execution_count": 132,
   "id": "4eb05fa2",
   "metadata": {},
   "outputs": [
    {
     "data": {
      "text/html": [
       "<div>\n",
       "<style scoped>\n",
       "    .dataframe tbody tr th:only-of-type {\n",
       "        vertical-align: middle;\n",
       "    }\n",
       "\n",
       "    .dataframe tbody tr th {\n",
       "        vertical-align: top;\n",
       "    }\n",
       "\n",
       "    .dataframe thead th {\n",
       "        text-align: right;\n",
       "    }\n",
       "</style>\n",
       "<table border=\"1\" class=\"dataframe\">\n",
       "  <thead>\n",
       "    <tr style=\"text-align: right;\">\n",
       "      <th></th>\n",
       "      <th>PassengerId</th>\n",
       "      <th>Survived</th>\n",
       "      <th>Pclass</th>\n",
       "      <th>Name</th>\n",
       "      <th>Sex</th>\n",
       "      <th>Age</th>\n",
       "      <th>SibSp</th>\n",
       "      <th>Parch</th>\n",
       "      <th>Ticket</th>\n",
       "      <th>Fare</th>\n",
       "      <th>Cabin</th>\n",
       "      <th>Embarked</th>\n",
       "    </tr>\n",
       "  </thead>\n",
       "  <tbody>\n",
       "    <tr>\n",
       "      <th>886</th>\n",
       "      <td>887</td>\n",
       "      <td>0</td>\n",
       "      <td>2</td>\n",
       "      <td>Montvila, Rev. Juozas</td>\n",
       "      <td>male</td>\n",
       "      <td>27.0</td>\n",
       "      <td>0</td>\n",
       "      <td>0</td>\n",
       "      <td>211536</td>\n",
       "      <td>13.00</td>\n",
       "      <td>NaN</td>\n",
       "      <td>S</td>\n",
       "    </tr>\n",
       "    <tr>\n",
       "      <th>887</th>\n",
       "      <td>888</td>\n",
       "      <td>1</td>\n",
       "      <td>1</td>\n",
       "      <td>Graham, Miss. Margaret Edith</td>\n",
       "      <td>female</td>\n",
       "      <td>19.0</td>\n",
       "      <td>0</td>\n",
       "      <td>0</td>\n",
       "      <td>112053</td>\n",
       "      <td>30.00</td>\n",
       "      <td>B42</td>\n",
       "      <td>S</td>\n",
       "    </tr>\n",
       "    <tr>\n",
       "      <th>888</th>\n",
       "      <td>889</td>\n",
       "      <td>0</td>\n",
       "      <td>3</td>\n",
       "      <td>Johnston, Miss. Catherine Helen \"Carrie\"</td>\n",
       "      <td>female</td>\n",
       "      <td>NaN</td>\n",
       "      <td>1</td>\n",
       "      <td>2</td>\n",
       "      <td>W./C. 6607</td>\n",
       "      <td>23.45</td>\n",
       "      <td>NaN</td>\n",
       "      <td>S</td>\n",
       "    </tr>\n",
       "    <tr>\n",
       "      <th>889</th>\n",
       "      <td>890</td>\n",
       "      <td>1</td>\n",
       "      <td>1</td>\n",
       "      <td>Behr, Mr. Karl Howell</td>\n",
       "      <td>male</td>\n",
       "      <td>26.0</td>\n",
       "      <td>0</td>\n",
       "      <td>0</td>\n",
       "      <td>111369</td>\n",
       "      <td>30.00</td>\n",
       "      <td>C148</td>\n",
       "      <td>C</td>\n",
       "    </tr>\n",
       "    <tr>\n",
       "      <th>890</th>\n",
       "      <td>891</td>\n",
       "      <td>0</td>\n",
       "      <td>3</td>\n",
       "      <td>Dooley, Mr. Patrick</td>\n",
       "      <td>male</td>\n",
       "      <td>32.0</td>\n",
       "      <td>0</td>\n",
       "      <td>0</td>\n",
       "      <td>370376</td>\n",
       "      <td>7.75</td>\n",
       "      <td>NaN</td>\n",
       "      <td>Q</td>\n",
       "    </tr>\n",
       "  </tbody>\n",
       "</table>\n",
       "</div>"
      ],
      "text/plain": [
       "     PassengerId  Survived  Pclass                                      Name  \\\n",
       "886          887         0       2                     Montvila, Rev. Juozas   \n",
       "887          888         1       1              Graham, Miss. Margaret Edith   \n",
       "888          889         0       3  Johnston, Miss. Catherine Helen \"Carrie\"   \n",
       "889          890         1       1                     Behr, Mr. Karl Howell   \n",
       "890          891         0       3                       Dooley, Mr. Patrick   \n",
       "\n",
       "        Sex   Age  SibSp  Parch      Ticket   Fare Cabin Embarked  \n",
       "886    male  27.0      0      0      211536  13.00   NaN        S  \n",
       "887  female  19.0      0      0      112053  30.00   B42        S  \n",
       "888  female   NaN      1      2  W./C. 6607  23.45   NaN        S  \n",
       "889    male  26.0      0      0      111369  30.00  C148        C  \n",
       "890    male  32.0      0      0      370376   7.75   NaN        Q  "
      ]
     },
     "execution_count": 132,
     "metadata": {},
     "output_type": "execute_result"
    }
   ],
   "source": [
    "#Lets check tail of the DataFrame retrieved using df.head()\n",
    "titanic_df.tail()"
   ]
  },
  {
   "cell_type": "markdown",
   "id": "570d7c70",
   "metadata": {},
   "source": [
    "For the Model Building and finding issues with the data set at various locations and phases we need to do Exploratory Data Analysis (EDA). For that First, Let's start with Non-Graphical Analysis"
   ]
  },
  {
   "cell_type": "markdown",
   "id": "578f5a25",
   "metadata": {},
   "source": [
    "# Exploratory Data Analysis (EDA)"
   ]
  },
  {
   "cell_type": "markdown",
   "id": "e1cd820c",
   "metadata": {},
   "source": [
    "## Non-Graphical Analysis"
   ]
  },
  {
   "cell_type": "markdown",
   "id": "9e106aa5",
   "metadata": {},
   "source": [
    "Since, we have collected the data from GitHub, and found that \"Survived\" is the target variable for us. and chosen that Classification is the problem. Let's go for finding out the details of all variables such as size, shape, information regarding NULL Values/Blank Space/White Spaces and clean them by using various methods"
   ]
  },
  {
   "cell_type": "code",
   "execution_count": 133,
   "id": "950f8208",
   "metadata": {},
   "outputs": [
    {
     "data": {
      "text/plain": [
       "(891, 12)"
      ]
     },
     "execution_count": 133,
     "metadata": {},
     "output_type": "execute_result"
    }
   ],
   "source": [
    "#Let's check the dimensions of the data set using shape \n",
    "titanic_df.shape"
   ]
  },
  {
   "cell_type": "markdown",
   "id": "7037b57f",
   "metadata": {},
   "source": [
    "From this we understand that the data set contains 891 Rows and 12 Columns of Information"
   ]
  },
  {
   "cell_type": "code",
   "execution_count": 134,
   "id": "4d9f885e",
   "metadata": {},
   "outputs": [
    {
     "data": {
      "text/plain": [
       "Index(['PassengerId', 'Survived', 'Pclass', 'Name', 'Sex', 'Age', 'SibSp',\n",
       "       'Parch', 'Ticket', 'Fare', 'Cabin', 'Embarked'],\n",
       "      dtype='object')"
      ]
     },
     "execution_count": 134,
     "metadata": {},
     "output_type": "execute_result"
    }
   ],
   "source": [
    "#Let's check the names of the Columns for later usage\n",
    "titanic_df.columns"
   ]
  },
  {
   "cell_type": "markdown",
   "id": "78de75b7",
   "metadata": {},
   "source": [
    "Above you can see the 11 features + the target variable (survived). What features could contribute to a high survival rate ?\n",
    "\n",
    "We can colclude that it would make sense if everything except ‘PassengerId’, ‘Ticket’ and ‘Name’ would be correlated with a high survival rate."
   ]
  },
  {
   "cell_type": "code",
   "execution_count": 135,
   "id": "ad774ad5",
   "metadata": {},
   "outputs": [
    {
     "data": {
      "text/plain": [
       "['PassengerId',\n",
       " 'Survived',\n",
       " 'Pclass',\n",
       " 'Name',\n",
       " 'Sex',\n",
       " 'Age',\n",
       " 'SibSp',\n",
       " 'Parch',\n",
       " 'Ticket',\n",
       " 'Fare',\n",
       " 'Cabin',\n",
       " 'Embarked']"
      ]
     },
     "execution_count": 135,
     "metadata": {},
     "output_type": "execute_result"
    }
   ],
   "source": [
    "#checking the dimensions of the internet \n",
    "titanic_df.columns.tolist()"
   ]
  },
  {
   "cell_type": "markdown",
   "id": "4885fdc2",
   "metadata": {},
   "source": [
    "With this we could convert the DataFrame Columns to the List and checked"
   ]
  },
  {
   "cell_type": "code",
   "execution_count": 136,
   "id": "f563691e",
   "metadata": {},
   "outputs": [
    {
     "data": {
      "text/plain": [
       "PassengerId      int64\n",
       "Survived         int64\n",
       "Pclass           int64\n",
       "Name            object\n",
       "Sex             object\n",
       "Age            float64\n",
       "SibSp            int64\n",
       "Parch            int64\n",
       "Ticket          object\n",
       "Fare           float64\n",
       "Cabin           object\n",
       "Embarked        object\n",
       "dtype: object"
      ]
     },
     "execution_count": 136,
     "metadata": {},
     "output_type": "execute_result"
    }
   ],
   "source": [
    "#Let's check the data types of the columns\n",
    "titanic_df.dtypes"
   ]
  },
  {
   "cell_type": "markdown",
   "id": "0bc53c0c",
   "metadata": {},
   "source": [
    "From this, we can understand that, Seven (7) coulmns are having Numerical Data and Five(5) Columns have Categorical data.\n",
    "Among 7 Numerical Columns  Age and Fare contains Float type of Data and PassengerId, Survived, Pclass, SibSp and Parch Columns contains int64 type. Name, Sex, Ticket, Cabin and Embarked are of Object Data types. \n",
    "So, we need to do a lot of operations to check NULL values, replace them and also to convert categorical data into Numerical data for further analysis.\n",
    "\n",
    "Below I am giving a brief information about the colmns\n",
    "\n",
    "survival:    Survival \n",
    "PassengerId: Unique Id of a passenger. \n",
    "pclass:    Passeneger travelling in which class     \n",
    "sex:    Sex - Male/Female\n",
    "Age:    Age in years     \n",
    "sibsp:    Number of siblings / spouses who aboard the Titanic     \n",
    "parch:    Number of parents / children who aboard the Titanic     \n",
    "ticket:    Ticket number consisting Alpha-numerical data\n",
    "fare:    Passenger fare     \n",
    "cabin:    Cabin number     \n",
    "embarked:    Port of Embarkation"
   ]
  },
  {
   "cell_type": "markdown",
   "id": "e041e45a",
   "metadata": {},
   "source": [
    "#### Checking the Null Values"
   ]
  },
  {
   "cell_type": "code",
   "execution_count": 137,
   "id": "0007ee8e",
   "metadata": {},
   "outputs": [
    {
     "data": {
      "text/plain": [
       "PassengerId      0\n",
       "Survived         0\n",
       "Pclass           0\n",
       "Name             0\n",
       "Sex              0\n",
       "Age            177\n",
       "SibSp            0\n",
       "Parch            0\n",
       "Ticket           0\n",
       "Fare             0\n",
       "Cabin          687\n",
       "Embarked         2\n",
       "dtype: int64"
      ]
     },
     "execution_count": 137,
     "metadata": {},
     "output_type": "execute_result"
    }
   ],
   "source": [
    "#Checking the Null Values\n",
    "titanic_df.isnull().sum()"
   ]
  },
  {
   "cell_type": "markdown",
   "id": "fbd769ac",
   "metadata": {},
   "source": [
    "The above method is showing clearly that, the dataset contains many NULL Values, \n",
    "basically Age containing 177 Null Values and we need to deal with them.\n",
    "Cabin containing largest NaN Values and also we need to fix them,\n",
    "Embarked column consists of 2 NULL Values and which can be dealt easily"
   ]
  },
  {
   "cell_type": "code",
   "execution_count": 138,
   "id": "90aff097",
   "metadata": {},
   "outputs": [
    {
     "data": {
      "text/plain": [
       "866"
      ]
     },
     "execution_count": 138,
     "metadata": {},
     "output_type": "execute_result"
    }
   ],
   "source": [
    "#Check the Sum of NULL Values in the total DataFrame\n",
    "titanic_df.isnull().sum().sum()"
   ]
  },
  {
   "cell_type": "markdown",
   "id": "ffab6b7d",
   "metadata": {},
   "source": [
    "We can now understand that, the total number of NULL Values we need to deal with are about 866. \n",
    "Lets find out the different options or methods to treat them properly"
   ]
  },
  {
   "cell_type": "markdown",
   "id": "c7981694",
   "metadata": {},
   "source": [
    "### Get the Complete Information about Dataset"
   ]
  },
  {
   "cell_type": "code",
   "execution_count": 139,
   "id": "12be2ec7",
   "metadata": {},
   "outputs": [
    {
     "name": "stdout",
     "output_type": "stream",
     "text": [
      "<class 'pandas.core.frame.DataFrame'>\n",
      "RangeIndex: 891 entries, 0 to 890\n",
      "Data columns (total 12 columns):\n",
      " #   Column       Non-Null Count  Dtype  \n",
      "---  ------       --------------  -----  \n",
      " 0   PassengerId  891 non-null    int64  \n",
      " 1   Survived     891 non-null    int64  \n",
      " 2   Pclass       891 non-null    int64  \n",
      " 3   Name         891 non-null    object \n",
      " 4   Sex          891 non-null    object \n",
      " 5   Age          714 non-null    float64\n",
      " 6   SibSp        891 non-null    int64  \n",
      " 7   Parch        891 non-null    int64  \n",
      " 8   Ticket       891 non-null    object \n",
      " 9   Fare         891 non-null    float64\n",
      " 10  Cabin        204 non-null    object \n",
      " 11  Embarked     889 non-null    object \n",
      "dtypes: float64(2), int64(5), object(5)\n",
      "memory usage: 83.7+ KB\n"
     ]
    }
   ],
   "source": [
    "#Fetching the information about the DataFrame with Non Null Values and Data Type of the Column\n",
    "titanic_df.info()"
   ]
  },
  {
   "cell_type": "markdown",
   "id": "887a9826",
   "metadata": {},
   "source": [
    "We have already looked at the information and NULL values earlier and this is a simple way to reiterate and check the \n",
    "information clearly.\n",
    "\n",
    "We can see that, there are 2 columns of the features are floats, 5 are integers and 5 are objects.\n",
    "The dataset has 891 values and 11 features + the target variable (survived). Memory Size is about 83.7+ KB"
   ]
  },
  {
   "cell_type": "markdown",
   "id": "d6074fe8",
   "metadata": {},
   "source": [
    "##### Let's check the unique values and all the information in each column"
   ]
  },
  {
   "cell_type": "code",
   "execution_count": 140,
   "id": "29d596f3",
   "metadata": {},
   "outputs": [
    {
     "data": {
      "text/plain": [
       "array([0, 1], dtype=int64)"
      ]
     },
     "execution_count": 140,
     "metadata": {},
     "output_type": "execute_result"
    }
   ],
   "source": [
    "#Gives Unique Values\n",
    "titanic_df['Survived'].unique()"
   ]
  },
  {
   "cell_type": "markdown",
   "id": "896c3ea9",
   "metadata": {},
   "source": [
    "It can be understood that there are only 2 unique types are there in SURVIVED Column. In the similiar way we can find the unique values under each column. But we can use Value_counts function with a FOR Loop to find all details together"
   ]
  },
  {
   "cell_type": "code",
   "execution_count": 141,
   "id": "612dd9b7",
   "metadata": {},
   "outputs": [
    {
     "data": {
      "text/plain": [
       "2"
      ]
     },
     "execution_count": 141,
     "metadata": {},
     "output_type": "execute_result"
    }
   ],
   "source": [
    "#Gives Total Number of Unique Values in our target variable\n",
    "titanic_df['Survived'].nunique()"
   ]
  },
  {
   "cell_type": "code",
   "execution_count": 142,
   "id": "5e519084",
   "metadata": {},
   "outputs": [
    {
     "name": "stdout",
     "output_type": "stream",
     "text": [
      "1      1\n",
      "599    1\n",
      "588    1\n",
      "589    1\n",
      "590    1\n",
      "      ..\n",
      "301    1\n",
      "302    1\n",
      "303    1\n",
      "304    1\n",
      "891    1\n",
      "Name: PassengerId, Length: 891, dtype: int64\n",
      "\n",
      "\n",
      "0    549\n",
      "1    342\n",
      "Name: Survived, dtype: int64\n",
      "\n",
      "\n",
      "3    491\n",
      "1    216\n",
      "2    184\n",
      "Name: Pclass, dtype: int64\n",
      "\n",
      "\n",
      "Braund, Mr. Owen Harris                     1\n",
      "Boulos, Mr. Hanna                           1\n",
      "Frolicher-Stehli, Mr. Maxmillian            1\n",
      "Gilinski, Mr. Eliezer                       1\n",
      "Murdlin, Mr. Joseph                         1\n",
      "                                           ..\n",
      "Kelly, Miss. Anna Katherine \"Annie Kate\"    1\n",
      "McCoy, Mr. Bernard                          1\n",
      "Johnson, Mr. William Cahoone Jr             1\n",
      "Keane, Miss. Nora A                         1\n",
      "Dooley, Mr. Patrick                         1\n",
      "Name: Name, Length: 891, dtype: int64\n",
      "\n",
      "\n",
      "male      577\n",
      "female    314\n",
      "Name: Sex, dtype: int64\n",
      "\n",
      "\n",
      "24.00    30\n",
      "22.00    27\n",
      "18.00    26\n",
      "19.00    25\n",
      "28.00    25\n",
      "         ..\n",
      "36.50     1\n",
      "55.50     1\n",
      "0.92      1\n",
      "23.50     1\n",
      "74.00     1\n",
      "Name: Age, Length: 88, dtype: int64\n",
      "\n",
      "\n",
      "0    608\n",
      "1    209\n",
      "2     28\n",
      "4     18\n",
      "3     16\n",
      "8      7\n",
      "5      5\n",
      "Name: SibSp, dtype: int64\n",
      "\n",
      "\n",
      "0    678\n",
      "1    118\n",
      "2     80\n",
      "5      5\n",
      "3      5\n",
      "4      4\n",
      "6      1\n",
      "Name: Parch, dtype: int64\n",
      "\n",
      "\n",
      "347082      7\n",
      "CA. 2343    7\n",
      "1601        7\n",
      "3101295     6\n",
      "CA 2144     6\n",
      "           ..\n",
      "9234        1\n",
      "19988       1\n",
      "2693        1\n",
      "PC 17612    1\n",
      "370376      1\n",
      "Name: Ticket, Length: 681, dtype: int64\n",
      "\n",
      "\n",
      "8.0500     43\n",
      "13.0000    42\n",
      "7.8958     38\n",
      "7.7500     34\n",
      "26.0000    31\n",
      "           ..\n",
      "35.0000     1\n",
      "28.5000     1\n",
      "6.2375      1\n",
      "14.0000     1\n",
      "10.5167     1\n",
      "Name: Fare, Length: 248, dtype: int64\n",
      "\n",
      "\n",
      "B96 B98        4\n",
      "G6             4\n",
      "C23 C25 C27    4\n",
      "C22 C26        3\n",
      "F33            3\n",
      "              ..\n",
      "E34            1\n",
      "C7             1\n",
      "C54            1\n",
      "E36            1\n",
      "C148           1\n",
      "Name: Cabin, Length: 147, dtype: int64\n",
      "\n",
      "\n",
      "S    644\n",
      "C    168\n",
      "Q     77\n",
      "Name: Embarked, dtype: int64\n",
      "\n",
      "\n"
     ]
    }
   ],
   "source": [
    "#Checking the value counts of each Column\n",
    "for i in titanic_df.columns:\n",
    "    print(titanic_df[i].value_counts())\n",
    "    print(\"\\n\")"
   ]
  },
  {
   "cell_type": "markdown",
   "id": "3a50616f",
   "metadata": {},
   "source": [
    "We can observe from this as,\n",
    "\n",
    "1) the passenger IDs are unique for each passenger.\n",
    "\n",
    "2) Under Survived we have two unique types, 342 members survived and 549 are not survived\n",
    "\n",
    "3) Pclas gives information that 216 Passengers travelled in 1st Class, 184 in 2nd class and 491 travelled in 3rd class.\n",
    "\n",
    "4) Name has all 891 Unique names since all the passengers list is represented here\n",
    "\n",
    "5) Sex columns gives the information that, 577 Male and 314 Female passengers were travelled in The Titanic\n",
    "\n",
    "6) Age column has 88 Unique values with smallest aged is 0.92 and highest is 74 years\n",
    "\n",
    "7) SibSp column is giving information about number siblings/spouses and without sibling passengers were 608.\n",
    "\n",
    "8) Parch feature gives, there were 678 passengers without any Parents/siblings onboard\n",
    "\n",
    "9) There were multiple numbers with same ticket number and we need to identify later on\n",
    "\n",
    "10) Fare depicitng the variuos ranges of passenger fares based on the class they were travelled\n",
    "\n",
    "11) Similarly Cabin displays the cabin number of the passengers and we have 4 cabins with same name in some instnaces\n",
    "\n",
    "12) From Embarked feature, we can observe that there were 3 different places where the passengers were boarded"
   ]
  },
  {
   "cell_type": "code",
   "execution_count": 143,
   "id": "aca16a7f",
   "metadata": {},
   "outputs": [
    {
     "data": {
      "text/plain": [
       "<Axes: >"
      ]
     },
     "execution_count": 143,
     "metadata": {},
     "output_type": "execute_result"
    },
    {
     "data": {
      "image/png": "[encoded data removed]",
      "text/plain": [
       "<Figure size 640x480 with 2 Axes>"
      ]
     },
     "metadata": {},
     "output_type": "display_data"
    }
   ],
   "source": [
    "#Lets Visuliza using Heat Map to find out the presence of NULL Values\n",
    "sns.heatmap(titanic_df.isnull(),cmap=\"Accent\")"
   ]
  },
  {
   "cell_type": "markdown",
   "id": "ad045dba",
   "metadata": {},
   "source": [
    "The above Heatmap is clearly showing the presence of NULL Values both in Age and Cabin columns. \n",
    "Since Cabin column has very large NULL Values, we can't treat them directly. Later we can drop the same."
   ]
  },
  {
   "cell_type": "code",
   "execution_count": 144,
   "id": "5a41bc90",
   "metadata": {},
   "outputs": [
    {
     "data": {
      "text/html": [
       "<div>\n",
       "<style scoped>\n",
       "    .dataframe tbody tr th:only-of-type {\n",
       "        vertical-align: middle;\n",
       "    }\n",
       "\n",
       "    .dataframe tbody tr th {\n",
       "        vertical-align: top;\n",
       "    }\n",
       "\n",
       "    .dataframe thead th {\n",
       "        text-align: right;\n",
       "    }\n",
       "</style>\n",
       "<table border=\"1\" class=\"dataframe\">\n",
       "  <thead>\n",
       "    <tr style=\"text-align: right;\">\n",
       "      <th></th>\n",
       "      <th>PassengerId</th>\n",
       "      <th>Survived</th>\n",
       "      <th>Pclass</th>\n",
       "      <th>Age</th>\n",
       "      <th>SibSp</th>\n",
       "      <th>Parch</th>\n",
       "      <th>Fare</th>\n",
       "    </tr>\n",
       "  </thead>\n",
       "  <tbody>\n",
       "    <tr>\n",
       "      <th>count</th>\n",
       "      <td>891.000000</td>\n",
       "      <td>891.000000</td>\n",
       "      <td>891.000000</td>\n",
       "      <td>714.000000</td>\n",
       "      <td>891.000000</td>\n",
       "      <td>891.000000</td>\n",
       "      <td>891.000000</td>\n",
       "    </tr>\n",
       "    <tr>\n",
       "      <th>mean</th>\n",
       "      <td>446.000000</td>\n",
       "      <td>0.383838</td>\n",
       "      <td>2.308642</td>\n",
       "      <td>29.699118</td>\n",
       "      <td>0.523008</td>\n",
       "      <td>0.381594</td>\n",
       "      <td>32.204208</td>\n",
       "    </tr>\n",
       "    <tr>\n",
       "      <th>std</th>\n",
       "      <td>257.353842</td>\n",
       "      <td>0.486592</td>\n",
       "      <td>0.836071</td>\n",
       "      <td>14.526497</td>\n",
       "      <td>1.102743</td>\n",
       "      <td>0.806057</td>\n",
       "      <td>49.693429</td>\n",
       "    </tr>\n",
       "    <tr>\n",
       "      <th>min</th>\n",
       "      <td>1.000000</td>\n",
       "      <td>0.000000</td>\n",
       "      <td>1.000000</td>\n",
       "      <td>0.420000</td>\n",
       "      <td>0.000000</td>\n",
       "      <td>0.000000</td>\n",
       "      <td>0.000000</td>\n",
       "    </tr>\n",
       "    <tr>\n",
       "      <th>25%</th>\n",
       "      <td>223.500000</td>\n",
       "      <td>0.000000</td>\n",
       "      <td>2.000000</td>\n",
       "      <td>20.125000</td>\n",
       "      <td>0.000000</td>\n",
       "      <td>0.000000</td>\n",
       "      <td>7.910400</td>\n",
       "    </tr>\n",
       "    <tr>\n",
       "      <th>50%</th>\n",
       "      <td>446.000000</td>\n",
       "      <td>0.000000</td>\n",
       "      <td>3.000000</td>\n",
       "      <td>28.000000</td>\n",
       "      <td>0.000000</td>\n",
       "      <td>0.000000</td>\n",
       "      <td>14.454200</td>\n",
       "    </tr>\n",
       "    <tr>\n",
       "      <th>75%</th>\n",
       "      <td>668.500000</td>\n",
       "      <td>1.000000</td>\n",
       "      <td>3.000000</td>\n",
       "      <td>38.000000</td>\n",
       "      <td>1.000000</td>\n",
       "      <td>0.000000</td>\n",
       "      <td>31.000000</td>\n",
       "    </tr>\n",
       "    <tr>\n",
       "      <th>max</th>\n",
       "      <td>891.000000</td>\n",
       "      <td>1.000000</td>\n",
       "      <td>3.000000</td>\n",
       "      <td>80.000000</td>\n",
       "      <td>8.000000</td>\n",
       "      <td>6.000000</td>\n",
       "      <td>512.329200</td>\n",
       "    </tr>\n",
       "  </tbody>\n",
       "</table>\n",
       "</div>"
      ],
      "text/plain": [
       "       PassengerId    Survived      Pclass         Age       SibSp  \\\n",
       "count   891.000000  891.000000  891.000000  714.000000  891.000000   \n",
       "mean    446.000000    0.383838    2.308642   29.699118    0.523008   \n",
       "std     257.353842    0.486592    0.836071   14.526497    1.102743   \n",
       "min       1.000000    0.000000    1.000000    0.420000    0.000000   \n",
       "25%     223.500000    0.000000    2.000000   20.125000    0.000000   \n",
       "50%     446.000000    0.000000    3.000000   28.000000    0.000000   \n",
       "75%     668.500000    1.000000    3.000000   38.000000    1.000000   \n",
       "max     891.000000    1.000000    3.000000   80.000000    8.000000   \n",
       "\n",
       "            Parch        Fare  \n",
       "count  891.000000  891.000000  \n",
       "mean     0.381594   32.204208  \n",
       "std      0.806057   49.693429  \n",
       "min      0.000000    0.000000  \n",
       "25%      0.000000    7.910400  \n",
       "50%      0.000000   14.454200  \n",
       "75%      0.000000   31.000000  \n",
       "max      6.000000  512.329200  "
      ]
     },
     "execution_count": 144,
     "metadata": {},
     "output_type": "execute_result"
    }
   ],
   "source": [
    "#Let's implement describe to return the description of the data in the DataFrame\n",
    "titanic_df.describe()"
   ]
  },
  {
   "cell_type": "markdown",
   "id": "08adaf49",
   "metadata": {},
   "source": [
    "As seen above, 38% of the total dataset have survived off the Titanic. \n",
    "\n",
    "The passenger ages range from 0.4 to 80, as we can plainly see. Additionally, we can already identify several features with missing values, such as the 'Age' feature.\n",
    "\n",
    "Since, the describe() method is used to return the description of the data in the given Dataset, we use it to find out the description of \n",
    "Numerical data which gives the final conclusion and information as follows in the each column\n",
    "1) COUNT: The Counts of all coulmns are not same in Age, which shows much of the data is missed.\n",
    "\n",
    "2) MEAN: The Mean Value is greater than the Median(50%) in Survived but since it is our target variable, there is no need to deal with it's skewness \n",
    "\n",
    "3) Since passengerID is unique for each passenger so, there's no issue with it as mean and median are same.\n",
    "\n",
    "4) In Pclass, mean is slightly less than that of Median and as per my opinion, i think there's no need to deal with skewness\n",
    "\n",
    "5) Under Age, Fare columns, mean is greater than median and we need to deal with them.\n",
    "\n",
    "6) We can also observe that the standard deviation is corrected sample standard deviation, 25% percentile are calculated in the describe method"
   ]
  },
  {
   "cell_type": "markdown",
   "id": "80a59a3f",
   "metadata": {},
   "source": [
    "### We can see what data is actually missing:"
   ]
  },
  {
   "cell_type": "code",
   "execution_count": 145,
   "id": "75bf7062",
   "metadata": {},
   "outputs": [
    {
     "data": {
      "text/html": [
       "<div>\n",
       "<style scoped>\n",
       "    .dataframe tbody tr th:only-of-type {\n",
       "        vertical-align: middle;\n",
       "    }\n",
       "\n",
       "    .dataframe tbody tr th {\n",
       "        vertical-align: top;\n",
       "    }\n",
       "\n",
       "    .dataframe thead th {\n",
       "        text-align: right;\n",
       "    }\n",
       "</style>\n",
       "<table border=\"1\" class=\"dataframe\">\n",
       "  <thead>\n",
       "    <tr style=\"text-align: right;\">\n",
       "      <th></th>\n",
       "      <th>Total</th>\n",
       "      <th>%</th>\n",
       "    </tr>\n",
       "  </thead>\n",
       "  <tbody>\n",
       "    <tr>\n",
       "      <th>Cabin</th>\n",
       "      <td>687</td>\n",
       "      <td>77.1</td>\n",
       "    </tr>\n",
       "    <tr>\n",
       "      <th>Age</th>\n",
       "      <td>177</td>\n",
       "      <td>19.9</td>\n",
       "    </tr>\n",
       "    <tr>\n",
       "      <th>Embarked</th>\n",
       "      <td>2</td>\n",
       "      <td>0.2</td>\n",
       "    </tr>\n",
       "    <tr>\n",
       "      <th>PassengerId</th>\n",
       "      <td>0</td>\n",
       "      <td>0.0</td>\n",
       "    </tr>\n",
       "    <tr>\n",
       "      <th>Survived</th>\n",
       "      <td>0</td>\n",
       "      <td>0.0</td>\n",
       "    </tr>\n",
       "  </tbody>\n",
       "</table>\n",
       "</div>"
      ],
      "text/plain": [
       "             Total     %\n",
       "Cabin          687  77.1\n",
       "Age            177  19.9\n",
       "Embarked         2   0.2\n",
       "PassengerId      0   0.0\n",
       "Survived         0   0.0"
      ]
     },
     "execution_count": 145,
     "metadata": {},
     "output_type": "execute_result"
    }
   ],
   "source": [
    "total = titanic_df.isnull().sum().sort_values(ascending=False)\n",
    "percent_1 = titanic_df.isnull().sum()/titanic_df.isnull().count()*100\n",
    "percent_2 = (round(percent_1, 1)).sort_values(ascending=False)\n",
    "missing_data = pd.concat([total, percent_2], axis=1, keys=['Total', '%'])\n",
    "missing_data.head(5)"
   ]
  },
  {
   "cell_type": "markdown",
   "id": "4dd60447",
   "metadata": {},
   "source": [
    "The Embarked feature has only 2 missing values, which can easily be filled. It will be much more tricky, to deal with the ‘Age’ feature, which has 177 missing values. The ‘Cabin’ feature needs further investigation, but it looks like that we might want to drop it from the dataset, since 77 % of it are missing."
   ]
  },
  {
   "cell_type": "code",
   "execution_count": 146,
   "id": "e01a14a2",
   "metadata": {},
   "outputs": [
    {
     "data": {
      "text/plain": [
       "<Axes: xlabel='Survived'>"
      ]
     },
     "execution_count": 146,
     "metadata": {},
     "output_type": "execute_result"
    },
    {
     "data": {
      "image/png": "[encoded data removed]",
      "text/plain": [
       "<Figure size 400x300 with 1 Axes>"
      ]
     },
     "metadata": {},
     "output_type": "display_data"
    }
   ],
   "source": [
    "%matplotlib inline\n",
    "# Creating Bar chart as the Target variable is Categorical\n",
    "Group_data=titanic_df.groupby('Survived').size()\n",
    "Group_data.plot(kind='bar', figsize=(4,3))"
   ]
  },
  {
   "cell_type": "markdown",
   "id": "81fe4197",
   "metadata": {},
   "source": [
    "The target variable's data distribution is sufficient to move forward. There are enough rows for each category to have something to learn from."
   ]
  },
  {
   "cell_type": "markdown",
   "id": "8a1906fe",
   "metadata": {},
   "source": [
    "### Finging unique values for each column"
   ]
  },
  {
   "cell_type": "code",
   "execution_count": 147,
   "id": "1d6740c5",
   "metadata": {},
   "outputs": [
    {
     "data": {
      "text/plain": [
       "PassengerId    891\n",
       "Survived         2\n",
       "Pclass           3\n",
       "Name           891\n",
       "Sex              2\n",
       "Age             88\n",
       "SibSp            7\n",
       "Parch            7\n",
       "Ticket         681\n",
       "Fare           248\n",
       "Cabin          147\n",
       "Embarked         3\n",
       "dtype: int64"
      ]
     },
     "execution_count": 147,
     "metadata": {},
     "output_type": "execute_result"
    }
   ],
   "source": [
    "# recognizing which column is continuous and which is categorical\n",
    "# Typically if the numer of unique values are < 20 then the variable is likely to be a category otherwise continuous\n",
    "titanic_df.nunique()"
   ]
  },
  {
   "cell_type": "markdown",
   "id": "fb984d66",
   "metadata": {},
   "source": [
    "### Results of Basic Data Exploration"
   ]
  },
  {
   "cell_type": "markdown",
   "id": "2f804fa4",
   "metadata": {},
   "source": [
    "Based on the fundamental investigation described above, we may now generate a straightforward report of the data, recording our findings regarding each column. Hence, developing a preliminary analytical roadmap.\n",
    "\n",
    "A final list will be made after more research has been done on the columns that were chosen in this round."
   ]
  },
  {
   "cell_type": "markdown",
   "id": "bb4e6efc",
   "metadata": {},
   "source": [
    "    PassengerId: Qualitative. Rejected.\n",
    "    Survived: Categorical. Selected. This is the Target Variable!\n",
    "    Pclass: Categorical. Selected.\n",
    "    Name: Qualitative. Rejected. Your name does not save you from dying!!\n",
    "    Sex: Categorical. Selected.\n",
    "    Age: Continuous. Selected.\n",
    "    SibSp: Categorical. Selected.\n",
    "    Parch: Categorical. Selected.\n",
    "    Ticket: Qualitative. Rejected.\n",
    "    Fare: Continuous. Selected.\n",
    "    Cabin: Qualitative. Rejected. Also, this has too many missing values!\n",
    "    Embarked: Categorical. Selected"
   ]
  },
  {
   "cell_type": "markdown",
   "id": "ac37fbf9",
   "metadata": {},
   "source": [
    "#### deleting pointless data columns"
   ]
  },
  {
   "cell_type": "code",
   "execution_count": 148,
   "id": "be212a23",
   "metadata": {},
   "outputs": [
    {
     "data": {
      "text/html": [
       "<div>\n",
       "<style scoped>\n",
       "    .dataframe tbody tr th:only-of-type {\n",
       "        vertical-align: middle;\n",
       "    }\n",
       "\n",
       "    .dataframe tbody tr th {\n",
       "        vertical-align: top;\n",
       "    }\n",
       "\n",
       "    .dataframe thead th {\n",
       "        text-align: right;\n",
       "    }\n",
       "</style>\n",
       "<table border=\"1\" class=\"dataframe\">\n",
       "  <thead>\n",
       "    <tr style=\"text-align: right;\">\n",
       "      <th></th>\n",
       "      <th>Survived</th>\n",
       "      <th>Pclass</th>\n",
       "      <th>Sex</th>\n",
       "      <th>Age</th>\n",
       "      <th>SibSp</th>\n",
       "      <th>Parch</th>\n",
       "      <th>Fare</th>\n",
       "      <th>Embarked</th>\n",
       "    </tr>\n",
       "  </thead>\n",
       "  <tbody>\n",
       "    <tr>\n",
       "      <th>0</th>\n",
       "      <td>0</td>\n",
       "      <td>3</td>\n",
       "      <td>male</td>\n",
       "      <td>22.0</td>\n",
       "      <td>1</td>\n",
       "      <td>0</td>\n",
       "      <td>7.2500</td>\n",
       "      <td>S</td>\n",
       "    </tr>\n",
       "    <tr>\n",
       "      <th>1</th>\n",
       "      <td>1</td>\n",
       "      <td>1</td>\n",
       "      <td>female</td>\n",
       "      <td>38.0</td>\n",
       "      <td>1</td>\n",
       "      <td>0</td>\n",
       "      <td>71.2833</td>\n",
       "      <td>C</td>\n",
       "    </tr>\n",
       "    <tr>\n",
       "      <th>2</th>\n",
       "      <td>1</td>\n",
       "      <td>3</td>\n",
       "      <td>female</td>\n",
       "      <td>26.0</td>\n",
       "      <td>0</td>\n",
       "      <td>0</td>\n",
       "      <td>7.9250</td>\n",
       "      <td>S</td>\n",
       "    </tr>\n",
       "    <tr>\n",
       "      <th>3</th>\n",
       "      <td>1</td>\n",
       "      <td>1</td>\n",
       "      <td>female</td>\n",
       "      <td>35.0</td>\n",
       "      <td>1</td>\n",
       "      <td>0</td>\n",
       "      <td>53.1000</td>\n",
       "      <td>S</td>\n",
       "    </tr>\n",
       "    <tr>\n",
       "      <th>4</th>\n",
       "      <td>0</td>\n",
       "      <td>3</td>\n",
       "      <td>male</td>\n",
       "      <td>35.0</td>\n",
       "      <td>0</td>\n",
       "      <td>0</td>\n",
       "      <td>8.0500</td>\n",
       "      <td>S</td>\n",
       "    </tr>\n",
       "    <tr>\n",
       "      <th>5</th>\n",
       "      <td>0</td>\n",
       "      <td>3</td>\n",
       "      <td>male</td>\n",
       "      <td>NaN</td>\n",
       "      <td>0</td>\n",
       "      <td>0</td>\n",
       "      <td>8.4583</td>\n",
       "      <td>Q</td>\n",
       "    </tr>\n",
       "    <tr>\n",
       "      <th>6</th>\n",
       "      <td>0</td>\n",
       "      <td>1</td>\n",
       "      <td>male</td>\n",
       "      <td>54.0</td>\n",
       "      <td>0</td>\n",
       "      <td>0</td>\n",
       "      <td>51.8625</td>\n",
       "      <td>S</td>\n",
       "    </tr>\n",
       "    <tr>\n",
       "      <th>7</th>\n",
       "      <td>0</td>\n",
       "      <td>3</td>\n",
       "      <td>male</td>\n",
       "      <td>2.0</td>\n",
       "      <td>3</td>\n",
       "      <td>1</td>\n",
       "      <td>21.0750</td>\n",
       "      <td>S</td>\n",
       "    </tr>\n",
       "  </tbody>\n",
       "</table>\n",
       "</div>"
      ],
      "text/plain": [
       "   Survived  Pclass     Sex   Age  SibSp  Parch     Fare Embarked\n",
       "0         0       3    male  22.0      1      0   7.2500        S\n",
       "1         1       1  female  38.0      1      0  71.2833        C\n",
       "2         1       3  female  26.0      0      0   7.9250        S\n",
       "3         1       1  female  35.0      1      0  53.1000        S\n",
       "4         0       3    male  35.0      0      0   8.0500        S\n",
       "5         0       3    male   NaN      0      0   8.4583        Q\n",
       "6         0       1    male  54.0      0      0  51.8625        S\n",
       "7         0       3    male   2.0      3      1  21.0750        S"
      ]
     },
     "execution_count": 148,
     "metadata": {},
     "output_type": "execute_result"
    }
   ],
   "source": [
    "# removing the columns that aren't suitable for predictive analysis because they have qualitative variables\n",
    "rem_clns = ['PassengerId','Name','Ticket','Cabin']\n",
    "titanic_df = titanic_df.drop(rem_clns,axis=1)\n",
    "titanic_df.head(8)"
   ]
  },
  {
   "cell_type": "markdown",
   "id": "cfd4ba88",
   "metadata": {},
   "source": [
    "### Graphical Analysis"
   ]
  },
  {
   "cell_type": "markdown",
   "id": "bb0fac17",
   "metadata": {},
   "source": [
    "Let's follow a method to visualize in the below mentioned procedure\n",
    "\n",
    "##### Categorical variables: \n",
    "Bar plot\n",
    "\n",
    "##### Continuous variables: \n",
    "Histogram"
   ]
  },
  {
   "cell_type": "markdown",
   "id": "c4b3da5c",
   "metadata": {},
   "source": [
    "##### Use bar plots to depict the distribution of all the categorical predictor factors in the data."
   ]
  },
  {
   "cell_type": "markdown",
   "id": "22048da0",
   "metadata": {},
   "source": [
    "Based on the above Basic Data Exploration, we have identified five categorical predictors in the data. Typically, a variable that is categorical contains less than 20 distinct values AND there is recurrence of values, meaning that that the information can be grouped by those unique values."
   ]
  },
  {
   "cell_type": "markdown",
   "id": "b125c0c7",
   "metadata": {},
   "source": [
    "Categorical Values: 'Pclass', 'Sex', 'SibSp','Parch','Embarked'"
   ]
  },
  {
   "cell_type": "markdown",
   "id": "9be50ba5",
   "metadata": {},
   "source": [
    "To visualize the distribution of the data for these categorical columns, we utilize bar charts."
   ]
  },
  {
   "cell_type": "code",
   "execution_count": 149,
   "id": "f342dea9",
   "metadata": {},
   "outputs": [],
   "source": [
    "# Let's plot several bar charts for categorical data at once\n",
    "# Due to the absence of a default method that may simultaneously plot bar charts for several columns for the same, let us define our own function.\n",
    "\n",
    "def Bar_Plots(req_data, var_plot):\n",
    "    %matplotlib inline\n",
    "    \n",
    "    import matplotlib.pyplot as plt\n",
    "    \n",
    "    # First, Let us create multiple subplots\n",
    "    fig, subPlot=plt.subplots(nrows=1, ncols=len(var_plot), figsize=(20,5))\n",
    "    fig.suptitle('Visualization of Categorical Variables : '+ str(var_plot))\n",
    "\n",
    "    for i, plot_no in zip(var_plot, range(len(var_plot))):\n",
    "        req_data.groupby(i).size().plot(kind='bar',ax=subPlot[plot_no],cmap='magma')"
   ]
  },
  {
   "cell_type": "code",
   "execution_count": 150,
   "id": "8d847ee1",
   "metadata": {},
   "outputs": [
    {
     "data": {
      "image/png": "[encoded data removed]",
      "text/plain": [
       "<Figure size 2000x500 with 5 Axes>"
      ]
     },
     "metadata": {},
     "output_type": "display_data"
    }
   ],
   "source": [
    "# Let's call the funciton and see the plots\n",
    "Bar_Plots(req_data=titanic_df, var_plot=['Pclass', 'Sex', 'SibSp','Parch','Embarked'])"
   ]
  },
  {
   "cell_type": "markdown",
   "id": "8c5ccf94",
   "metadata": {},
   "source": [
    "These bar graphs display the category names in the X-axis and the frequency of each category on the Y-axis.\n",
    "\n",
    "Each category in the ideal bar chart has a similar frequency. Therefore, there are enough rows in the data for the ML system to learn for each category.\n",
    "\n",
    "If a column has an excessively skewed distribution, with just a single dominant bar and relatively few of the other categories present. In machine learning, these kinds of columns could not be very useful. We validate this in the section on correlation analysis before making the final decision on whether to accept or reject the data set.\n",
    "\n",
    "Except for one, all of the categorical columns in this data have a sufficient distribution to be taken into account for machine learning."
   ]
  },
  {
   "cell_type": "markdown",
   "id": "146b85f1",
   "metadata": {},
   "source": [
    "And we need to select all the above catergorical columns for further analysis"
   ]
  },
  {
   "cell_type": "markdown",
   "id": "7b3a4422",
   "metadata": {},
   "source": [
    "### Use histograms to see how the continuous predictor variables are distributed in the data."
   ]
  },
  {
   "cell_type": "markdown",
   "id": "b9843478",
   "metadata": {},
   "source": [
    "Based on the above Data analysis, we  have identified that 'Age',and 'Fare' are the columns as predictors"
   ]
  },
  {
   "cell_type": "code",
   "execution_count": 151,
   "id": "d4ce8ab6",
   "metadata": {},
   "outputs": [
    {
     "data": {
      "text/plain": [
       "array([[<Axes: title={'center': 'Age'}>,\n",
       "        <Axes: title={'center': 'Fare'}>]], dtype=object)"
      ]
     },
     "execution_count": 151,
     "metadata": {},
     "output_type": "execute_result"
    },
    {
     "data": {
      "image/png": "[encoded data removed]",
      "text/plain": [
       "<Figure size 2200x600 with 2 Axes>"
      ]
     },
     "metadata": {},
     "output_type": "display_data"
    }
   ],
   "source": [
    "# Plotting histograms of multiple columns together\n",
    "titanic_df.hist(['Age', 'Fare'], figsize=(22,6))"
   ]
  },
  {
   "cell_type": "markdown",
   "id": "f7a91ddf",
   "metadata": {},
   "source": [
    "The data distribution for a single continuous variable is displayed in a histogram.\n",
    "\n",
    "The range of values is shown on the X-axis, and the number of values in that range is shown on the Y-axis. For instance, there are around 175 rows of data in the \"Age\" histogram up top that represent people between the ages of 20 and 30.\n",
    "\n",
    "A bell curve or a slightly skewed bell curve is the desired histogram result. If the skewness is excessive, the column should first undergo outlier treatment before being re-examined. If it does not resolve the issue, the column should then be rejected."
   ]
  },
  {
   "cell_type": "markdown",
   "id": "98dd4403",
   "metadata": {},
   "source": [
    "    Age : Selected. The distribution is good.\n",
    "    Fare: Selected. Outliers seen beyond 300, need to treat them."
   ]
  },
  {
   "cell_type": "markdown",
   "id": "0b7718b6",
   "metadata": {},
   "source": [
    "### Outlier treatment : for 'Fare'"
   ]
  },
  {
   "cell_type": "code",
   "execution_count": 153,
   "id": "8c0cdf07",
   "metadata": {},
   "outputs": [
    {
     "data": {
      "text/plain": [
       "27     263.000\n",
       "341    263.000\n",
       "438    263.000\n",
       "88     263.000\n",
       "742    262.375\n",
       "        ...   \n",
       "633      0.000\n",
       "413      0.000\n",
       "822      0.000\n",
       "732      0.000\n",
       "674      0.000\n",
       "Name: Fare, Length: 888, dtype: float64"
      ]
     },
     "execution_count": 153,
     "metadata": {},
     "output_type": "execute_result"
    }
   ],
   "source": [
    "# Finding nearest values to 300 mark\n",
    "titanic_df['Fare'][titanic_df['Fare']<300].sort_values(ascending=False)"
   ]
  },
  {
   "cell_type": "markdown",
   "id": "27709e9c",
   "metadata": {},
   "source": [
    "from the result we can conclude that the nearest logical value is 263.0, hence, replacing any value above 300 with it."
   ]
  },
  {
   "cell_type": "code",
   "execution_count": 154,
   "id": "e76e79cd",
   "metadata": {},
   "outputs": [],
   "source": [
    "# Replacing outliers with nearest possibe value\n",
    "titanic_df['Fare'][titanic_df['Fare']>300] = 263.0"
   ]
  },
  {
   "cell_type": "markdown",
   "id": "319da63c",
   "metadata": {},
   "source": [
    "## Analysis After Outlier Treatment"
   ]
  },
  {
   "cell_type": "code",
   "execution_count": 155,
   "id": "b99be5bd",
   "metadata": {},
   "outputs": [
    {
     "data": {
      "text/plain": [
       "array([[<Axes: title={'center': 'Age'}>,\n",
       "        <Axes: title={'center': 'Fare'}>]], dtype=object)"
      ]
     },
     "execution_count": 155,
     "metadata": {},
     "output_type": "execute_result"
    },
    {
     "data": {
      "image/png": "[encoded data removed]",
      "text/plain": [
       "<Figure size 2200x600 with 2 Axes>"
      ]
     },
     "metadata": {},
     "output_type": "display_data"
    }
   ],
   "source": [
    "# Plotting histograms of multiple columns together\n",
    "titanic_df.hist(['Age', 'Fare'], figsize=(22,6))"
   ]
  },
  {
   "cell_type": "markdown",
   "id": "ce2139e9",
   "metadata": {},
   "source": [
    "### Replacing the NULL Values"
   ]
  },
  {
   "cell_type": "markdown",
   "id": "f30e2609",
   "metadata": {},
   "source": [
    "Each column's missing values are handled differently.\n",
    "\n",
    "Missing value treatment is not possible when more than 30% of the data in a column is missing. That column has to be rejected since there is too much missing information.\n",
    "\n",
    "The options for handling missing values in data are listed below.\n",
    "\n",
    "    Delete the rows with the missing values if there aren't many records.\n",
    "    For continuous variables, use the median value to impute the missing values.\n",
    "    For categorical variables, use the MODE value to impute the missing values.\n",
    "    Use neighboring values to interpolate the values.\n",
    "    Values should be interpolated using business logic."
   ]
  },
  {
   "cell_type": "code",
   "execution_count": 156,
   "id": "cb839f70",
   "metadata": {},
   "outputs": [
    {
     "data": {
      "text/plain": [
       "Survived      0\n",
       "Pclass        0\n",
       "Sex           0\n",
       "Age         177\n",
       "SibSp         0\n",
       "Parch         0\n",
       "Fare          0\n",
       "Embarked      2\n",
       "dtype: int64"
      ]
     },
     "execution_count": 156,
     "metadata": {},
     "output_type": "execute_result"
    }
   ],
   "source": [
    "# Finding how many missing values are there for each column\n",
    "titanic_df.isnull().sum()"
   ]
  },
  {
   "cell_type": "code",
   "execution_count": 157,
   "id": "b3b88d61",
   "metadata": {},
   "outputs": [],
   "source": [
    "# Replacing missing values of Age with median value\n",
    "titanic_df['Age'].fillna(titanic_df['Age'].median(), inplace=True)\n",
    "\n",
    "# Replacing missing values of Embarked with Mode value\n",
    "titanic_df['Embarked'].fillna(titanic_df['Embarked'].mode()[0], inplace=True)"
   ]
  },
  {
   "cell_type": "code",
   "execution_count": 158,
   "id": "f4c30589",
   "metadata": {},
   "outputs": [
    {
     "data": {
      "text/plain": [
       "Survived    0\n",
       "Pclass      0\n",
       "Sex         0\n",
       "Age         0\n",
       "SibSp       0\n",
       "Parch       0\n",
       "Fare        0\n",
       "Embarked    0\n",
       "dtype: int64"
      ]
     },
     "execution_count": 158,
     "metadata": {},
     "output_type": "execute_result"
    }
   ],
   "source": [
    "# Checking NULL values presence after the removal/replaces\n",
    "titanic_df.isnull().sum()"
   ]
  },
  {
   "cell_type": "markdown",
   "id": "2946af46",
   "metadata": {},
   "source": [
    "### Checking the Correlation :\n",
    "Sincethe data set ahs both continuous and categorical data, we cannot check the feature selction by direct correlation.\n",
    "so let's use the ANOVA TEST and BOX plots for Visualization"
   ]
  },
  {
   "cell_type": "markdown",
   "id": "436c9e81",
   "metadata": {},
   "source": [
    "In this case study the Target variable is categorical, hence below two scenarios will be present\n",
    "\n",
    "`Categorical Target Variable Vs Continuous Predictor\n",
    "\n",
    "`Categorical Target Variable Vs Categorical Predictor"
   ]
  },
  {
   "cell_type": "markdown",
   "id": "bea0b20d",
   "metadata": {},
   "source": [
    "## Analyzing relationships between categorical and continuous data using box plots"
   ]
  },
  {
   "cell_type": "markdown",
   "id": "fca0fe48",
   "metadata": {},
   "source": [
    "When the variable being predicted is continuous and the variable of interest is categorical, we use bar graphs or boxplots to assess the relationship and an ANOVA test to see how strong the relationship is."
   ]
  },
  {
   "cell_type": "code",
   "execution_count": 159,
   "id": "fd5a3ca4",
   "metadata": {},
   "outputs": [
    {
     "data": {
      "image/png": "[encoded data removed]",
      "text/plain": [
       "<Figure size 1800x500 with 2 Axes>"
      ]
     },
     "metadata": {},
     "output_type": "display_data"
    }
   ],
   "source": [
    "# Relationship between Target Variable and continuous varaibles using BOX Plots\n",
    "chk_cols=['Age','Fare']\n",
    "\n",
    "import matplotlib.pyplot as plt\n",
    "fig, subPlot=plt.subplots(nrows=1, ncols=len(chk_cols), figsize=(18,5))\n",
    "\n",
    "# Creating box plots for each continuous predictor against the Target Variable \"Survived\"\n",
    "for Predict_Col , i in zip(chk_cols, range(len(chk_cols))):\n",
    "    titanic_df.boxplot(column=Predict_Col, by='Survived', figsize=(5,5), vert=True, ax=subPlot[i])"
   ]
  },
  {
   "cell_type": "markdown",
   "id": "1ed31d5b",
   "metadata": {},
   "source": [
    "These graphs provide insight into the continuous predictor's data distribution on the Y-axis for each category on the X-Axis.\n",
    "\n",
    "\n",
    "The continuous variable has NO influence on the target variable if the distribution is similar for each category (boxes are in the same line). As a result, there is no correlation between the variables.\n",
    "\n",
    "\n",
    "For illustration, take a look at the first graph, \"Age\" Vs. \"Survived\". The boxes are lined up in a row. It implies that the ages of those who survived the crash and those who did not are comparable. As a result, using Age alone to make a distinction between survival and non-survival is ineffective. This column therefore has no relationship to the Survived.\n",
    "\n",
    "The opposing features are shown in the other chart. Meaning that for each category of survival, the information's distribution is different (the boxes are not in the same line!). It suggests that these factors may be associated to Survived.\n",
    "\n",
    "Looking at the ANOVA test results below, we can verify this."
   ]
  },
  {
   "cell_type": "markdown",
   "id": "6f05024e",
   "metadata": {},
   "source": [
    "## ANOVA test for Data that is statistical Selection of Features (Categorical vs. Continuous)"
   ]
  },
  {
   "cell_type": "markdown",
   "id": "7b68346e",
   "metadata": {},
   "source": [
    "    - The average(mean) values of the numerical Predictor variable are the same for all the groups in the categorical Target variable, under the assumption (H0) that there is NO relationship between the provided variables.\n",
    "\n",
    "    - Results of the ANOVA test: Chances that H0 is true"
   ]
  },
  {
   "cell_type": "code",
   "execution_count": 160,
   "id": "a3e385bb",
   "metadata": {},
   "outputs": [],
   "source": [
    "# Let's define a function that finds the statistical relationship to all the categorical variables\n",
    "def Fun_ANOVA(Req_data, Target_Element, Regular_Predictor_List):\n",
    "    from scipy.stats import f_oneway\n",
    "\n",
    "    # Creating an empty list of final selected predictors\n",
    "    Chosen_Predictors=[]\n",
    "    \n",
    "    print('##### ANOVA Results ##### \\n')\n",
    "    for i in Regular_Predictor_List:\n",
    "        ListsOfCategoryGroups=Req_data.groupby(Target_Element)[i].apply(list)\n",
    "        AnovaResults = f_oneway(*ListsOfCategoryGroups)\n",
    "        \n",
    "        # If the ANOVA P-Value is <0.05, that means we reject H0\n",
    "        if (AnovaResults[1] < 0.05):\n",
    "            print(i, 'is correlated with', Target_Element, '| P-Value:', AnovaResults[1])\n",
    "            Chosen_Predictors.append(i)\n",
    "        else:\n",
    "            print(i, 'is NOT correlated with', Target_Element, '| P-Value:', AnovaResults[1])\n",
    "    \n",
    "    return(Chosen_Predictors)"
   ]
  },
  {
   "cell_type": "code",
   "execution_count": 161,
   "id": "8c583e63",
   "metadata": {},
   "outputs": [
    {
     "name": "stdout",
     "output_type": "stream",
     "text": [
      "##### ANOVA Results ##### \n",
      "\n",
      "Age is NOT correlated with Survived | P-Value: 0.052760688475835\n",
      "Fare is correlated with Survived | P-Value: 1.8421954983111479e-16\n"
     ]
    },
    {
     "data": {
      "text/plain": [
       "['Fare']"
      ]
     },
     "execution_count": 161,
     "metadata": {},
     "output_type": "execute_result"
    }
   ],
   "source": [
    "# Calling the function to check which categorical variables are correlated with target\n",
    "Regular_Variables=['Age','Fare']\n",
    "Fun_ANOVA(Req_data=titanic_df, Target_Element='Survived', Regular_Predictor_List=Regular_Variables)"
   ]
  },
  {
   "cell_type": "markdown",
   "id": "c77f9954",
   "metadata": {},
   "source": [
    "The ANOVA results support our visual analysis presented above using box plots.\n",
    "\n",
    "Look at the P-Value of Age; it was narrowly rejected! In such cases, you can choose to include the boundary-line variable and see whether that improves the accuracy."
   ]
  },
  {
   "cell_type": "markdown",
   "id": "656f2903",
   "metadata": {},
   "source": [
    "#### Fare is Finally selected as Continuous Variable"
   ]
  },
  {
   "cell_type": "markdown",
   "id": "b168ff30",
   "metadata": {},
   "source": [
    "## BiVariant Analysis Using Bar Plots"
   ]
  },
  {
   "cell_type": "markdown",
   "id": "3e387aff",
   "metadata": {},
   "source": [
    "When both the target variable and the predictor are categorical, we visually examine their correlation using barplots and statistically, using the Chi-square test."
   ]
  },
  {
   "cell_type": "code",
   "execution_count": 162,
   "id": "c05af913",
   "metadata": {},
   "outputs": [
    {
     "data": {
      "text/html": [
       "<div>\n",
       "<style scoped>\n",
       "    .dataframe tbody tr th:only-of-type {\n",
       "        vertical-align: middle;\n",
       "    }\n",
       "\n",
       "    .dataframe tbody tr th {\n",
       "        vertical-align: top;\n",
       "    }\n",
       "\n",
       "    .dataframe thead th {\n",
       "        text-align: right;\n",
       "    }\n",
       "</style>\n",
       "<table border=\"1\" class=\"dataframe\">\n",
       "  <thead>\n",
       "    <tr style=\"text-align: right;\">\n",
       "      <th>Survived</th>\n",
       "      <th>0</th>\n",
       "      <th>1</th>\n",
       "    </tr>\n",
       "    <tr>\n",
       "      <th>Sex</th>\n",
       "      <th></th>\n",
       "      <th></th>\n",
       "    </tr>\n",
       "  </thead>\n",
       "  <tbody>\n",
       "    <tr>\n",
       "      <th>female</th>\n",
       "      <td>81</td>\n",
       "      <td>233</td>\n",
       "    </tr>\n",
       "    <tr>\n",
       "      <th>male</th>\n",
       "      <td>468</td>\n",
       "      <td>109</td>\n",
       "    </tr>\n",
       "  </tbody>\n",
       "</table>\n",
       "</div>"
      ],
      "text/plain": [
       "Survived    0    1\n",
       "Sex               \n",
       "female     81  233\n",
       "male      468  109"
      ]
     },
     "execution_count": 162,
     "metadata": {},
     "output_type": "execute_result"
    }
   ],
   "source": [
    "# Cross tablulation between two categorical variables\n",
    "rel_df=pd.crosstab(index=titanic_df['Sex'], columns=titanic_df['Survived'])\n",
    "rel_df"
   ]
  },
  {
   "cell_type": "code",
   "execution_count": 163,
   "id": "fe1fd479",
   "metadata": {},
   "outputs": [
    {
     "data": {
      "image/png": "[encoded data removed]",
      "text/plain": [
       "<Figure size 1000x2000 with 5 Axes>"
      ]
     },
     "metadata": {},
     "output_type": "display_data"
    }
   ],
   "source": [
    "# Using grouped bar charts for visual inference\n",
    "Categorical=['Pclass', 'Sex', 'SibSp','Parch','Embarked']\n",
    "\n",
    "import matplotlib.pyplot as plt\n",
    "fig, subPlot=plt.subplots(nrows=len(Categorical), ncols=1, figsize=(10,20))\n",
    "\n",
    "# Creating Grouped bar plots for each categorical predictor against the Target Variable \"Survived\"\n",
    "for column , i in zip(Categorical, range(len(Categorical))):\n",
    "    rel_df=pd.crosstab(index=titanic_df[column], columns=titanic_df['Survived'])\n",
    "    rel_df.plot.bar(color=['blue','orange'], ax=subPlot[i], title=column+' Vs '+'Survived')"
   ]
  },
  {
   "cell_type": "markdown",
   "id": "c220ef4e",
   "metadata": {},
   "source": [
    "These grouped bar graphs display the category and frequency along the X-Axis. The two columns are not connected if the ratio of bars is the same for all categories.\n",
    "\n",
    "However, take a peek at the Sex vs. Survived storyline. Because the bars differ for each category, two columns are related to one another.\n",
    "\n",
    "Using Chi-Square Tests, we validate this study in the part that follows. "
   ]
  },
  {
   "cell_type": "markdown",
   "id": "5a273963",
   "metadata": {},
   "source": [
    "## Selection of Statistical Features by applying the Chi-Square Test"
   ]
  },
  {
   "cell_type": "markdown",
   "id": "8b7845d9",
   "metadata": {},
   "source": [
    "To determine the relationship between two categorical variables, the Chi-Square test is used.\n",
    "\n",
    "    The two columns are not connected, according to assumption (H0).\n",
    "    Chi-Sq test result: The likelihood that H0 is true."
   ]
  },
  {
   "cell_type": "code",
   "execution_count": 164,
   "id": "38953cb3",
   "metadata": {},
   "outputs": [],
   "source": [
    "# the creation of a function to determine the relationship between each categorical variable and the target variable\n",
    "def FunctionChisq(req_data, Target_Element, Cat_Var_List):\n",
    "    from scipy.stats import chi2_contingency\n",
    "    \n",
    "    # Creating an empty list of final selected predictors\n",
    "    Sel_Pred=[]\n",
    "\n",
    "    for i in Cat_Var_List:\n",
    "        rel_df=pd.crosstab(index=req_data[Target_Element], columns=req_data[i])\n",
    "        ChiSqResult = chi2_contingency(rel_df)\n",
    "        \n",
    "        # If the ChiSq P-Value is <0.05, that means we reject H0\n",
    "        if (ChiSqResult[1] < 0.05):\n",
    "            print(i, 'is correlated with', Target_Element, '| P-Value:', ChiSqResult[1])\n",
    "            Sel_Pred.append(i)\n",
    "        else:\n",
    "            print(i, 'is NOT correlated with', Target_Element, '| P-Value:', ChiSqResult[1])        \n",
    "            \n",
    "    return(Sel_Pred)"
   ]
  },
  {
   "cell_type": "code",
   "execution_count": 165,
   "id": "712fbe59",
   "metadata": {},
   "outputs": [
    {
     "name": "stdout",
     "output_type": "stream",
     "text": [
      "Pclass is correlated with Survived | P-Value: 4.549251711298793e-23\n",
      "Sex is correlated with Survived | P-Value: 1.1973570627755645e-58\n",
      "SibSp is correlated with Survived | P-Value: 1.5585810465902116e-06\n",
      "Parch is correlated with Survived | P-Value: 9.703526421039997e-05\n",
      "Embarked is correlated with Survived | P-Value: 2.3008626481449577e-06\n"
     ]
    },
    {
     "data": {
      "text/plain": [
       "['Pclass', 'Sex', 'SibSp', 'Parch', 'Embarked']"
      ]
     },
     "execution_count": 165,
     "metadata": {},
     "output_type": "execute_result"
    }
   ],
   "source": [
    "Cat_Var=['Pclass', 'Sex', 'SibSp','Parch','Embarked']\n",
    "\n",
    "# Calling the function\n",
    "FunctionChisq(req_data=titanic_df, \n",
    "              Target_Element='Survived',\n",
    "              Cat_Var_List= Cat_Var)"
   ]
  },
  {
   "cell_type": "markdown",
   "id": "0c5700f5",
   "metadata": {},
   "source": [
    "#### Finally 'Pclass', 'Sex', 'SibSp', 'Parch', 'Embarked' are selected as Categorical Variables"
   ]
  },
  {
   "cell_type": "markdown",
   "id": "010fa3d7",
   "metadata": {},
   "source": [
    "## Final Predictors Selection for Implementing Machine Learning"
   ]
  },
  {
   "cell_type": "markdown",
   "id": "1b213744",
   "metadata": {},
   "source": [
    "Choosing the final columns for machine learning based on the tests above\n",
    "\n",
    "I'm choosing the \"education_num\" column in place of the original \"education\" column. This depicts the data's ordinal characteristic."
   ]
  },
  {
   "cell_type": "code",
   "execution_count": 166,
   "id": "9bb41549",
   "metadata": {},
   "outputs": [
    {
     "data": {
      "text/html": [
       "<div>\n",
       "<style scoped>\n",
       "    .dataframe tbody tr th:only-of-type {\n",
       "        vertical-align: middle;\n",
       "    }\n",
       "\n",
       "    .dataframe tbody tr th {\n",
       "        vertical-align: top;\n",
       "    }\n",
       "\n",
       "    .dataframe thead th {\n",
       "        text-align: right;\n",
       "    }\n",
       "</style>\n",
       "<table border=\"1\" class=\"dataframe\">\n",
       "  <thead>\n",
       "    <tr style=\"text-align: right;\">\n",
       "      <th></th>\n",
       "      <th>Pclass</th>\n",
       "      <th>Sex</th>\n",
       "      <th>SibSp</th>\n",
       "      <th>Parch</th>\n",
       "      <th>Embarked</th>\n",
       "      <th>Fare</th>\n",
       "    </tr>\n",
       "  </thead>\n",
       "  <tbody>\n",
       "    <tr>\n",
       "      <th>0</th>\n",
       "      <td>3</td>\n",
       "      <td>male</td>\n",
       "      <td>1</td>\n",
       "      <td>0</td>\n",
       "      <td>S</td>\n",
       "      <td>7.2500</td>\n",
       "    </tr>\n",
       "    <tr>\n",
       "      <th>1</th>\n",
       "      <td>1</td>\n",
       "      <td>female</td>\n",
       "      <td>1</td>\n",
       "      <td>0</td>\n",
       "      <td>C</td>\n",
       "      <td>71.2833</td>\n",
       "    </tr>\n",
       "    <tr>\n",
       "      <th>2</th>\n",
       "      <td>3</td>\n",
       "      <td>female</td>\n",
       "      <td>0</td>\n",
       "      <td>0</td>\n",
       "      <td>S</td>\n",
       "      <td>7.9250</td>\n",
       "    </tr>\n",
       "    <tr>\n",
       "      <th>3</th>\n",
       "      <td>1</td>\n",
       "      <td>female</td>\n",
       "      <td>1</td>\n",
       "      <td>0</td>\n",
       "      <td>S</td>\n",
       "      <td>53.1000</td>\n",
       "    </tr>\n",
       "    <tr>\n",
       "      <th>4</th>\n",
       "      <td>3</td>\n",
       "      <td>male</td>\n",
       "      <td>0</td>\n",
       "      <td>0</td>\n",
       "      <td>S</td>\n",
       "      <td>8.0500</td>\n",
       "    </tr>\n",
       "    <tr>\n",
       "      <th>5</th>\n",
       "      <td>3</td>\n",
       "      <td>male</td>\n",
       "      <td>0</td>\n",
       "      <td>0</td>\n",
       "      <td>Q</td>\n",
       "      <td>8.4583</td>\n",
       "    </tr>\n",
       "    <tr>\n",
       "      <th>6</th>\n",
       "      <td>1</td>\n",
       "      <td>male</td>\n",
       "      <td>0</td>\n",
       "      <td>0</td>\n",
       "      <td>S</td>\n",
       "      <td>51.8625</td>\n",
       "    </tr>\n",
       "    <tr>\n",
       "      <th>7</th>\n",
       "      <td>3</td>\n",
       "      <td>male</td>\n",
       "      <td>3</td>\n",
       "      <td>1</td>\n",
       "      <td>S</td>\n",
       "      <td>21.0750</td>\n",
       "    </tr>\n",
       "  </tbody>\n",
       "</table>\n",
       "</div>"
      ],
      "text/plain": [
       "   Pclass     Sex  SibSp  Parch Embarked     Fare\n",
       "0       3    male      1      0        S   7.2500\n",
       "1       1  female      1      0        C  71.2833\n",
       "2       3  female      0      0        S   7.9250\n",
       "3       1  female      1      0        S  53.1000\n",
       "4       3    male      0      0        S   8.0500\n",
       "5       3    male      0      0        Q   8.4583\n",
       "6       1    male      0      0        S  51.8625\n",
       "7       3    male      3      1        S  21.0750"
      ]
     },
     "execution_count": 166,
     "metadata": {},
     "output_type": "execute_result"
    }
   ],
   "source": [
    "Sel_Cols=['Pclass', 'Sex', 'SibSp', 'Parch', 'Embarked','Fare']\n",
    "\n",
    "# Selecting final columns\n",
    "Info_ML=titanic_df[Sel_Cols]\n",
    "Info_ML.head(8)"
   ]
  },
  {
   "cell_type": "code",
   "execution_count": 167,
   "id": "7776e49b",
   "metadata": {},
   "outputs": [],
   "source": [
    "# preserving this last set of information for implementation reference\n",
    "Info_ML.to_pickle('Info_ML.pkl')"
   ]
  },
  {
   "cell_type": "markdown",
   "id": "fbc6bc79",
   "metadata": {},
   "source": [
    "## Preparing Data for Machine Learnin"
   ]
  },
  {
   "cell_type": "markdown",
   "id": "aebe1ceb",
   "metadata": {},
   "source": [
    "A list of actions taken before data can be used for machine learning on predictor variables"
   ]
  },
  {
   "cell_type": "markdown",
   "id": "01659508",
   "metadata": {},
   "source": [
    "    1) Each ordinal categorical column is changed to a number\n",
    "    2) 1/0 mapping is used to transform binary nominal categorical columns to numbers.\n",
    "    3) utilizing pd to change all other nominal category columns to numeric.get_dummies()\n",
    "    4) Standardization, normalization, logarithms, and sqrt are optional data transformations. Important if you're utilizing neural networks or distance-based techniques like KNN"
   ]
  },
  {
   "cell_type": "markdown",
   "id": "bd749a62",
   "metadata": {},
   "source": [
    "There is no ordinal categorical variable in the data."
   ]
  },
  {
   "cell_type": "markdown",
   "id": "8b9a651c",
   "metadata": {},
   "source": [
    "### using 1/0 mapping to translate the binary nominal variable to a numeric form"
   ]
  },
  {
   "cell_type": "code",
   "execution_count": 168,
   "id": "8e4dd47e",
   "metadata": {},
   "outputs": [],
   "source": [
    "# binary to numeric conversion of the nominal binary variable sex\n",
    "Info_ML['Sex'].replace({'female':0, 'male':1}, inplace=True)"
   ]
  },
  {
   "cell_type": "markdown",
   "id": "b1bc0624",
   "metadata": {},
   "source": [
    "### Using get_dummies() to transform the nominal variable to a numeric value"
   ]
  },
  {
   "cell_type": "code",
   "execution_count": 169,
   "id": "d9805c8a",
   "metadata": {},
   "outputs": [
    {
     "data": {
      "text/html": [
       "<div>\n",
       "<style scoped>\n",
       "    .dataframe tbody tr th:only-of-type {\n",
       "        vertical-align: middle;\n",
       "    }\n",
       "\n",
       "    .dataframe tbody tr th {\n",
       "        vertical-align: top;\n",
       "    }\n",
       "\n",
       "    .dataframe thead th {\n",
       "        text-align: right;\n",
       "    }\n",
       "</style>\n",
       "<table border=\"1\" class=\"dataframe\">\n",
       "  <thead>\n",
       "    <tr style=\"text-align: right;\">\n",
       "      <th></th>\n",
       "      <th>Pclass</th>\n",
       "      <th>Sex</th>\n",
       "      <th>SibSp</th>\n",
       "      <th>Parch</th>\n",
       "      <th>Fare</th>\n",
       "      <th>Embarked_C</th>\n",
       "      <th>Embarked_Q</th>\n",
       "      <th>Embarked_S</th>\n",
       "      <th>Survived</th>\n",
       "    </tr>\n",
       "  </thead>\n",
       "  <tbody>\n",
       "    <tr>\n",
       "      <th>0</th>\n",
       "      <td>3</td>\n",
       "      <td>1</td>\n",
       "      <td>1</td>\n",
       "      <td>0</td>\n",
       "      <td>7.2500</td>\n",
       "      <td>0</td>\n",
       "      <td>0</td>\n",
       "      <td>1</td>\n",
       "      <td>0</td>\n",
       "    </tr>\n",
       "    <tr>\n",
       "      <th>1</th>\n",
       "      <td>1</td>\n",
       "      <td>0</td>\n",
       "      <td>1</td>\n",
       "      <td>0</td>\n",
       "      <td>71.2833</td>\n",
       "      <td>1</td>\n",
       "      <td>0</td>\n",
       "      <td>0</td>\n",
       "      <td>1</td>\n",
       "    </tr>\n",
       "    <tr>\n",
       "      <th>2</th>\n",
       "      <td>3</td>\n",
       "      <td>0</td>\n",
       "      <td>0</td>\n",
       "      <td>0</td>\n",
       "      <td>7.9250</td>\n",
       "      <td>0</td>\n",
       "      <td>0</td>\n",
       "      <td>1</td>\n",
       "      <td>1</td>\n",
       "    </tr>\n",
       "    <tr>\n",
       "      <th>3</th>\n",
       "      <td>1</td>\n",
       "      <td>0</td>\n",
       "      <td>1</td>\n",
       "      <td>0</td>\n",
       "      <td>53.1000</td>\n",
       "      <td>0</td>\n",
       "      <td>0</td>\n",
       "      <td>1</td>\n",
       "      <td>1</td>\n",
       "    </tr>\n",
       "    <tr>\n",
       "      <th>4</th>\n",
       "      <td>3</td>\n",
       "      <td>1</td>\n",
       "      <td>0</td>\n",
       "      <td>0</td>\n",
       "      <td>8.0500</td>\n",
       "      <td>0</td>\n",
       "      <td>0</td>\n",
       "      <td>1</td>\n",
       "      <td>0</td>\n",
       "    </tr>\n",
       "    <tr>\n",
       "      <th>5</th>\n",
       "      <td>3</td>\n",
       "      <td>1</td>\n",
       "      <td>0</td>\n",
       "      <td>0</td>\n",
       "      <td>8.4583</td>\n",
       "      <td>0</td>\n",
       "      <td>1</td>\n",
       "      <td>0</td>\n",
       "      <td>0</td>\n",
       "    </tr>\n",
       "    <tr>\n",
       "      <th>6</th>\n",
       "      <td>1</td>\n",
       "      <td>1</td>\n",
       "      <td>0</td>\n",
       "      <td>0</td>\n",
       "      <td>51.8625</td>\n",
       "      <td>0</td>\n",
       "      <td>0</td>\n",
       "      <td>1</td>\n",
       "      <td>0</td>\n",
       "    </tr>\n",
       "    <tr>\n",
       "      <th>7</th>\n",
       "      <td>3</td>\n",
       "      <td>1</td>\n",
       "      <td>3</td>\n",
       "      <td>1</td>\n",
       "      <td>21.0750</td>\n",
       "      <td>0</td>\n",
       "      <td>0</td>\n",
       "      <td>1</td>\n",
       "      <td>0</td>\n",
       "    </tr>\n",
       "  </tbody>\n",
       "</table>\n",
       "</div>"
      ],
      "text/plain": [
       "   Pclass  Sex  SibSp  Parch     Fare  Embarked_C  Embarked_Q  Embarked_S  \\\n",
       "0       3    1      1      0   7.2500           0           0           1   \n",
       "1       1    0      1      0  71.2833           1           0           0   \n",
       "2       3    0      0      0   7.9250           0           0           1   \n",
       "3       1    0      1      0  53.1000           0           0           1   \n",
       "4       3    1      0      0   8.0500           0           0           1   \n",
       "5       3    1      0      0   8.4583           0           1           0   \n",
       "6       1    1      0      0  51.8625           0           0           1   \n",
       "7       3    1      3      1  21.0750           0           0           1   \n",
       "\n",
       "   Survived  \n",
       "0         0  \n",
       "1         1  \n",
       "2         1  \n",
       "3         1  \n",
       "4         0  \n",
       "5         0  \n",
       "6         0  \n",
       "7         0  "
      ]
     },
     "execution_count": 169,
     "metadata": {},
     "output_type": "execute_result"
    }
   ],
   "source": [
    "# utilizing dummy variables to treat all nominal variables concurrently\n",
    "Info_ML_Numeric=pd.get_dummies(Info_ML)\n",
    "\n",
    "# for further analysis adding the Target Variable to the data \n",
    "Info_ML_Numeric['Survived']=titanic_df['Survived']\n",
    "\n",
    "# Printing sample First 8 rows\n",
    "Info_ML_Numeric.head(8)"
   ]
  },
  {
   "cell_type": "markdown",
   "id": "151145b0",
   "metadata": {},
   "source": [
    "## Dividing the data into Training and Test samples for Machine Learning"
   ]
  },
  {
   "cell_type": "markdown",
   "id": "374c4e7f",
   "metadata": {},
   "source": [
    "For building the model, we don't use all of the data. Randomly chosen data are set aside to test the effectiveness of the model. The remaining data, on which the model is formed, is referred to as training data, and this is known as testing data. Usually, 70% of the data is utilized for training, while the remaining 30% is used for testing."
   ]
  },
  {
   "cell_type": "code",
   "execution_count": 170,
   "id": "d9768638",
   "metadata": {},
   "outputs": [
    {
     "data": {
      "text/plain": [
       "Index(['Pclass', 'Sex', 'SibSp', 'Parch', 'Fare', 'Embarked_C', 'Embarked_Q',\n",
       "       'Embarked_S', 'Survived'],\n",
       "      dtype='object')"
      ]
     },
     "execution_count": 170,
     "metadata": {},
     "output_type": "execute_result"
    }
   ],
   "source": [
    "# generating a printout of each column's names for our reference \n",
    "Info_ML_Numeric.columns"
   ]
  },
  {
   "cell_type": "code",
   "execution_count": 171,
   "id": "d7a35f70",
   "metadata": {},
   "outputs": [],
   "source": [
    "# Maintain the Predictor Variable and the Target Variable independents\n",
    "Target_Element='Survived'\n",
    "Pred=['Pclass', 'Sex', 'SibSp', 'Parch', 'Fare', 'Embarked_C', 'Embarked_Q','Embarked_S']\n",
    "\n",
    "X=Info_ML_Numeric[Pred].values\n",
    "y=Info_ML_Numeric[Target_Element].values\n",
    "\n",
    "# Create training and test sets from the data.\n",
    "from sklearn.model_selection import train_test_split\n",
    "X_train, X_test, y_train, y_test = train_test_split(X, y, test_size=0.3, random_state=428)"
   ]
  },
  {
   "cell_type": "markdown",
   "id": "ba28c322",
   "metadata": {},
   "source": [
    "### Standardization/Normalization of data"
   ]
  },
  {
   "cell_type": "markdown",
   "id": "64b535ed",
   "metadata": {},
   "source": [
    "If you wish to compare the accuracy of the transformed data with the accuracy of the raw data, you can opt not to conduct this step.\n",
    "\n",
    "This step becomes required if you are utilizing KNN or neural networks, though."
   ]
  },
  {
   "cell_type": "code",
   "execution_count": 172,
   "id": "5328befc",
   "metadata": {},
   "outputs": [],
   "source": [
    "### Data standardization ###\n",
    "from sklearn.preprocessing import StandardScaler, MinMaxScaler\n",
    "# Select either normalization or standardization.\n",
    "# Min Max Normalization generated superior results on these data.\n",
    "\n",
    "# Select between Min Max normalization and standardization.\n",
    "#PredictorScaler=StandardScaler()\n",
    "PredictorScaler=MinMaxScaler()\n",
    "\n",
    "# preserving the appropriate item for future use\n",
    "PredictorScalerFit=PredictorScaler.fit(X)\n",
    "\n",
    "# producing X's standardized values\n",
    "X=PredictorScalerFit.transform(X)\n",
    "\n",
    "# Data should be divided into training and test sets.\n",
    "from sklearn.model_selection import train_test_split\n",
    "X_train, X_test, y_train, y_test = train_test_split(X, y, test_size=0.3, random_state=42)"
   ]
  },
  {
   "cell_type": "code",
   "execution_count": 173,
   "id": "d3d4f1d1",
   "metadata": {},
   "outputs": [
    {
     "name": "stdout",
     "output_type": "stream",
     "text": [
      "(623, 8)\n",
      "(623,)\n",
      "(268, 8)\n",
      "(268,)\n"
     ]
    }
   ],
   "source": [
    "# Validation of the sampled data's sanity\n",
    "print(X_train.shape)\n",
    "print(y_train.shape)\n",
    "print(X_test.shape)\n",
    "print(y_test.shape)"
   ]
  },
  {
   "cell_type": "markdown",
   "id": "1a1a6455",
   "metadata": {},
   "source": [
    "## Logistic Regression"
   ]
  },
  {
   "cell_type": "code",
   "execution_count": 174,
   "id": "60cda9ac",
   "metadata": {},
   "outputs": [
    {
     "name": "stdout",
     "output_type": "stream",
     "text": [
      "              precision    recall  f1-score   support\n",
      "\n",
      "           0       0.81      0.81      0.81       157\n",
      "           1       0.73      0.73      0.73       111\n",
      "\n",
      "    accuracy                           0.78       268\n",
      "   macro avg       0.77      0.77      0.77       268\n",
      "weighted avg       0.78      0.78      0.78       268\n",
      "\n",
      "[[127  30]\n",
      " [ 30  81]]\n",
      "Accuracy of the model on Testing Sample Data: 0.78\n",
      "\n",
      "Values for 10-fold Cross Validation Accuracy:\n",
      " [0.77649393 0.77641044 0.77021909 0.82182649 0.78803431 0.75981111\n",
      " 0.78268624 0.75756502 0.79649424 0.78302904]\n",
      "\n",
      "The models final average accuracy: 0.78\n"
     ]
    }
   ],
   "source": [
    "# Logistic Regression\n",
    "from sklearn.linear_model import LogisticRegression\n",
    "# select either C=1 or Penalty='l1'\n",
    "# 'Newton-cg', 'lbfgs', 'liblinear','sag', and'saga' solvers can all be given different values.\n",
    "clf = LogisticRegression(C=5,penalty='l2', solver='newton-cg')\n",
    "\n",
    "# Model construction using training data\n",
    "LOG=clf.fit(X_train,y_train)\n",
    "prediction=LOG.predict(X_test)\n",
    "\n",
    "# Accuracy measurement for Testing Data\n",
    "from sklearn import metrics\n",
    "print(metrics.classification_report(y_test, prediction))\n",
    "print(metrics.confusion_matrix(y_test, prediction))\n",
    "\n",
    "#Printing the model's overall accuracy\n",
    "F1_Score=metrics.f1_score(y_test, prediction, average='weighted')\n",
    "print('Accuracy of the model on Testing Sample Data:', round(F1_Score,2))\n",
    "\n",
    "# Importing cross validation function from sklearn\n",
    "from sklearn.model_selection import cross_val_score\n",
    "\n",
    "# Operating 10-Fold Cross checking a certain algorithm\n",
    "# passing whole data X and Y because the K-fold will divide the data and decide train/test on its own\n",
    "Accuracy_Values=cross_val_score(LOG, X , y, cv=10, scoring='f1_weighted')\n",
    "print('\\nValues for 10-fold Cross Validation Accuracy:\\n',Accuracy_Values)\n",
    "print('\\nThe models final average accuracy:', round(Accuracy_Values.mean(),2))"
   ]
  },
  {
   "cell_type": "markdown",
   "id": "d527c35d",
   "metadata": {},
   "source": [
    "### Decision Trees Classifier"
   ]
  },
  {
   "cell_type": "code",
   "execution_count": 176,
   "id": "5400e022",
   "metadata": {},
   "outputs": [
    {
     "name": "stdout",
     "output_type": "stream",
     "text": [
      "DecisionTreeClassifier(criterion='entropy', max_depth=3)\n",
      "              precision    recall  f1-score   support\n",
      "\n",
      "           0       0.80      0.90      0.85       157\n",
      "           1       0.83      0.68      0.75       111\n",
      "\n",
      "    accuracy                           0.81       268\n",
      "   macro avg       0.81      0.79      0.80       268\n",
      "weighted avg       0.81      0.81      0.81       268\n",
      "\n",
      "[[141  16]\n",
      " [ 35  76]]\n",
      "Accuracy of the model on Testing Sample Data: 0.81\n",
      "\n",
      "Values for 10-fold Cross Validation Accuracy:\n",
      " [0.80938963 0.81776069 0.76791722 0.83190886 0.82022472 0.78065407\n",
      " 0.7911255  0.77562138 0.82683216 0.79359477]\n",
      "\n",
      "The models final average accuracy: 0.8\n"
     ]
    },
    {
     "data": {
      "image/png": "[encoded data removed]",
      "text/plain": [
       "<Figure size 640x480 with 1 Axes>"
      ]
     },
     "metadata": {},
     "output_type": "display_data"
    }
   ],
   "source": [
    "#Decision Trees\n",
    "from sklearn import tree\n",
    "#select from a variety of customizable hyper parameters.\n",
    "clf = tree.DecisionTreeClassifier(max_depth=3,criterion='entropy')\n",
    "\n",
    "# printing every setting for decision trees\n",
    "print(clf)\n",
    "\n",
    "# Model construction using training data\n",
    "DTree=clf.fit(X_train,y_train)\n",
    "prediction=DTree.predict(X_test)\n",
    "\n",
    "# Accuracy measurement for Testing Data\n",
    "from sklearn import metrics\n",
    "print(metrics.classification_report(y_test, prediction))\n",
    "print(metrics.confusion_matrix(y_test, prediction))\n",
    "\n",
    "# Printing the model's overall accuracy\n",
    "F1_Score=metrics.f1_score(y_test, prediction, average='weighted')\n",
    "print('Accuracy of the model on Testing Sample Data:', round(F1_Score,2))\n",
    "\n",
    "# The Top 10 Most Important Columns' Feature Importance is Plotted\n",
    "%matplotlib inline\n",
    "feature_importances = pd.Series(DTree.feature_importances_, index=Pred)\n",
    "feature_importances.nlargest(10).plot(kind='barh')\n",
    "\n",
    "# Importing cross validation function from sklearn\n",
    "from sklearn.model_selection import cross_val_score\n",
    "\n",
    "# Operating 10-Fold Cross checking a certain algorithm\n",
    "# passing whole data X and Y because the K-fold will divide the data and decide train/test on its own\n",
    "Accuracy_Values=cross_val_score(DTree, X , y, cv=10, scoring='f1_weighted')\n",
    "print('\\nValues for 10-fold Cross Validation Accuracy:\\n',Accuracy_Values)\n",
    "print('\\nThe models final average accuracy:', round(Accuracy_Values.mean(),2))"
   ]
  },
  {
   "cell_type": "markdown",
   "id": "43778d0b",
   "metadata": {},
   "source": [
    "### Random Forest Classifier"
   ]
  },
  {
   "cell_type": "code",
   "execution_count": 177,
   "id": "167a0641",
   "metadata": {},
   "outputs": [
    {
     "name": "stdout",
     "output_type": "stream",
     "text": [
      "RandomForestClassifier(max_depth=4, n_estimators=200)\n",
      "              precision    recall  f1-score   support\n",
      "\n",
      "           0       0.79      0.89      0.83       157\n",
      "           1       0.80      0.66      0.72       111\n",
      "\n",
      "    accuracy                           0.79       268\n",
      "   macro avg       0.79      0.77      0.78       268\n",
      "weighted avg       0.79      0.79      0.79       268\n",
      "\n",
      "[[139  18]\n",
      " [ 38  73]]\n",
      "Accuracy of the model on Testing Sample Data: 0.79\n",
      "\n",
      "Values for 10-fold Cross Validation Accuracy:\n",
      " [0.80431954 0.75497104 0.76225561 0.85250075 0.88610043 0.81433378\n",
      " 0.78874467 0.71832623 0.81221749 0.80001088]\n",
      "\n",
      "The models final average accuracy: 0.8\n"
     ]
    },
    {
     "data": {
      "text/plain": [
       "<Axes: >"
      ]
     },
     "execution_count": 177,
     "metadata": {},
     "output_type": "execute_result"
    },
    {
     "data": {
      "image/png": "[encoded data removed]",
      "text/plain": [
       "<Figure size 640x480 with 1 Axes>"
      ]
     },
     "metadata": {},
     "output_type": "display_data"
    }
   ],
   "source": [
    "# Random Forest (Bagging of multiple Decision Trees)\n",
    "from sklearn.ensemble import RandomForestClassifier\n",
    "# To fine-tune the model, experiment with alternative hyperparameter values for max_depth, n_estimators, and criteria.\n",
    "clf = RandomForestClassifier(max_depth=4, n_estimators=200,criterion='gini')\n",
    "\n",
    "# printing all of the Random Forest's settings\n",
    "print(clf)\n",
    "\n",
    "# Model construction using training data\n",
    "RF=clf.fit(X_train,y_train)\n",
    "prediction=RF.predict(X_test)\n",
    "\n",
    "# Accuracy measurement for Testing Data\n",
    "from sklearn import metrics\n",
    "print(metrics.classification_report(y_test, prediction))\n",
    "print(metrics.confusion_matrix(y_test, prediction))\n",
    "\n",
    "# Printing the model's overall accuracy\n",
    "F1_Score=metrics.f1_score(y_test, prediction, average='weighted')\n",
    "print('Accuracy of the model on Testing Sample Data:', round(F1_Score,2))\n",
    "\n",
    "# Importing cross validation function from sklearn\n",
    "from sklearn.model_selection import cross_val_score\n",
    "\n",
    "# Operating 10-Fold Cross checking a certain algorithm\n",
    "# passing whole data X and Y because the K-fold will divide the data and decide train/test on its own\n",
    "Accuracy_Values=cross_val_score(RF, X , y, cv=10, scoring='f1_weighted')\n",
    "print('\\nValues for 10-fold Cross Validation Accuracy:\\n',Accuracy_Values)\n",
    "print('\\nThe models final average accuracy:', round(Accuracy_Values.mean(),2))\n",
    "\n",
    "\n",
    "#Ranking the relevance of the features for the Top 10 Most Important Columns\n",
    "%matplotlib inline\n",
    "feature_importances = pd.Series(RF.feature_importances_, index=Pred)\n",
    "feature_importances.nlargest(10).plot(kind='barh')"
   ]
  },
  {
   "cell_type": "markdown",
   "id": "1e3d7fa3",
   "metadata": {},
   "source": [
    "### AdaBoost"
   ]
  },
  {
   "cell_type": "code",
   "execution_count": 178,
   "id": "24b6ecba",
   "metadata": {},
   "outputs": [
    {
     "name": "stdout",
     "output_type": "stream",
     "text": [
      "AdaBoostClassifier(base_estimator=DecisionTreeClassifier(max_depth=3),\n",
      "                   learning_rate=0.1, n_estimators=100)\n",
      "              precision    recall  f1-score   support\n",
      "\n",
      "           0       0.79      0.85      0.82       157\n",
      "           1       0.77      0.68      0.72       111\n",
      "\n",
      "    accuracy                           0.78       268\n",
      "   macro avg       0.78      0.76      0.77       268\n",
      "weighted avg       0.78      0.78      0.78       268\n",
      "\n",
      "[[134  23]\n",
      " [ 36  75]]\n",
      "Accuracy of the model on Testing Sample Data: 0.78\n",
      "\n",
      "Values for 5-fold Cross Validation Accuracy:\n",
      " [0.74301676 0.79118868 0.85250075 0.77543262 0.82508968]\n",
      "\n",
      "The models final average accuracy: 0.8\n"
     ]
    },
    {
     "data": {
      "text/plain": [
       "<Axes: >"
      ]
     },
     "execution_count": 178,
     "metadata": {},
     "output_type": "execute_result"
    },
    {
     "data": {
      "image/png": "[encoded data removed]",
      "text/plain": [
       "<Figure size 640x480 with 1 Axes>"
      ]
     },
     "metadata": {},
     "output_type": "display_data"
    }
   ],
   "source": [
    "# Adaboost \n",
    "from sklearn.ensemble import AdaBoostClassifier\n",
    "from sklearn.tree import DecisionTreeClassifier\n",
    "\n",
    "# Choosing Decision Tree with 1 level as the weak learner\n",
    "DTC=DecisionTreeClassifier(max_depth=3)\n",
    "clf = AdaBoostClassifier(n_estimators=100, base_estimator=DTC ,learning_rate=0.1)\n",
    "\n",
    "# Printing all the parameters of Adaboost\n",
    "print(clf)\n",
    "\n",
    "# Model construction using training data\n",
    "AB=clf.fit(X_train,y_train)\n",
    "prediction=AB.predict(X_test)\n",
    "\n",
    "# Accuracy measurement for Testing Data\n",
    "from sklearn import metrics\n",
    "print(metrics.classification_report(y_test, prediction))\n",
    "print(metrics.confusion_matrix(y_test, prediction))\n",
    "\n",
    "# Printing the model's overall accuracy\n",
    "F1_Score=metrics.f1_score(y_test, prediction, average='weighted')\n",
    "print('Accuracy of the model on Testing Sample Data:', round(F1_Score,2))\n",
    "\n",
    "# Importing cross validation function from sklearn\n",
    "from sklearn.model_selection import cross_val_score\n",
    "\n",
    "# Operating 5-Fold Cross checking a certain algorithm\n",
    "# passing whole data X and Y because the K-fold will divide the data and decide train/test on its own\n",
    "Accuracy_Values=cross_val_score(AB, X , y, cv=5, scoring='f1_weighted')\n",
    "print('\\nValues for 5-fold Cross Validation Accuracy:\\n',Accuracy_Values)\n",
    "print('\\nThe models final average accuracy:', round(Accuracy_Values.mean(),2))\n",
    "\n",
    "#Ranking the relevance of the features for the Top 10 Most Important Columns\n",
    "%matplotlib inline\n",
    "feature_importances = pd.Series(AB.feature_importances_, index=Pred)\n",
    "feature_importances.nlargest(10).plot(kind='barh')"
   ]
  },
  {
   "cell_type": "markdown",
   "id": "808cb3e6",
   "metadata": {},
   "source": [
    "### XGBoost"
   ]
  },
  {
   "cell_type": "code",
   "execution_count": 179,
   "id": "385872dd",
   "metadata": {},
   "outputs": [
    {
     "name": "stdout",
     "output_type": "stream",
     "text": [
      "XGBClassifier(base_score=None, booster='gbtree', callbacks=None,\n",
      "              colsample_bylevel=None, colsample_bynode=None,\n",
      "              colsample_bytree=None, early_stopping_rounds=None,\n",
      "              enable_categorical=False, eval_metric=None, feature_types=None,\n",
      "              gamma=None, gpu_id=None, grow_policy=None, importance_type=None,\n",
      "              interaction_constraints=None, learning_rate=0.1, max_bin=None,\n",
      "              max_cat_threshold=None, max_cat_to_onehot=None,\n",
      "              max_delta_step=None, max_depth=2, max_leaves=None,\n",
      "              min_child_weight=None, missing=nan, monotone_constraints=None,\n",
      "              n_estimators=200, n_jobs=None, num_parallel_tree=None,\n",
      "              predictor=None, random_state=None, ...)\n",
      "              precision    recall  f1-score   support\n",
      "\n",
      "           0       0.79      0.87      0.83       157\n",
      "           1       0.79      0.68      0.73       111\n",
      "\n",
      "    accuracy                           0.79       268\n",
      "   macro avg       0.79      0.77      0.78       268\n",
      "weighted avg       0.79      0.79      0.79       268\n",
      "\n",
      "[[137  20]\n",
      " [ 36  75]]\n",
      "Accuracy of the model on Testing Sample Data: 0.79\n",
      "\n",
      "Values for 5-fold Cross Validation Accuracy:\n",
      " [0.7796611  0.79047755 0.85064241 0.79219859 0.79867892]\n",
      "\n",
      "The models final average accuracy: 0.8\n"
     ]
    },
    {
     "data": {
      "text/plain": [
       "<Axes: >"
      ]
     },
     "execution_count": 179,
     "metadata": {},
     "output_type": "execute_result"
    },
    {
     "data": {
      "image/png": "[encoded data removed]",
      "text/plain": [
       "<Figure size 640x480 with 1 Axes>"
      ]
     },
     "metadata": {},
     "output_type": "display_data"
    }
   ],
   "source": [
    "# Xtreme Gradient Boosting (XGBoost)\n",
    "from xgboost import XGBClassifier\n",
    "clf=XGBClassifier(max_depth=2, learning_rate=0.1, n_estimators=200, objective='binary:logistic', booster='gbtree')\n",
    "\n",
    "# Printing all the parameters of XGBoost\n",
    "print(clf)\n",
    "\n",
    "# Model construction using training data\n",
    "XGB=clf.fit(X_train,y_train)\n",
    "prediction=XGB.predict(X_test)\n",
    "\n",
    "# Accuracy measurement for Testing Data\n",
    "from sklearn import metrics\n",
    "print(metrics.classification_report(y_test, prediction))\n",
    "print(metrics.confusion_matrix(y_test, prediction))\n",
    "\n",
    "# Printing the model's overall accuracy\n",
    "F1_Score=metrics.f1_score(y_test, prediction, average='weighted')\n",
    "print('Accuracy of the model on Testing Sample Data:', round(F1_Score,2))\n",
    "\n",
    "# Importing cross validation function from sklearn\n",
    "from sklearn.model_selection import cross_val_score\n",
    "\n",
    "# Operating 5-Fold Cross checking a certain algorithm\n",
    "# passing whole data X and Y because the K-fold will divide the data and decide train/test on its own\n",
    "Accuracy_Values=cross_val_score(XGB, X , y, cv=5, scoring='f1_weighted')\n",
    "print('\\nValues for 5-fold Cross Validation Accuracy:\\n',Accuracy_Values)\n",
    "print('\\nThe models final average accuracy:', round(Accuracy_Values.mean(),2))\n",
    "\n",
    "#Ranking the relevance of the features for the Top 10 Most Important Columns\n",
    "%matplotlib inline\n",
    "feature_importances = pd.Series(XGB.feature_importances_, index=Pred)\n",
    "feature_importances.nlargest(10).plot(kind='barh')"
   ]
  },
  {
   "cell_type": "markdown",
   "id": "62776b39",
   "metadata": {},
   "source": [
    "### KNN"
   ]
  },
  {
   "cell_type": "code",
   "execution_count": 180,
   "id": "bce7ab9e",
   "metadata": {},
   "outputs": [
    {
     "name": "stdout",
     "output_type": "stream",
     "text": [
      "KNeighborsClassifier(n_neighbors=4)\n",
      "              precision    recall  f1-score   support\n",
      "\n",
      "           0       0.75      0.92      0.83       157\n",
      "           1       0.83      0.58      0.68       111\n",
      "\n",
      "    accuracy                           0.78       268\n",
      "   macro avg       0.79      0.75      0.75       268\n",
      "weighted avg       0.79      0.78      0.77       268\n",
      "\n",
      "[[144  13]\n",
      " [ 47  64]]\n",
      "Accuracy of the model on Testing Sample Data: 0.77\n",
      "\n",
      "Values for 10-fold Cross Validation Accuracy:\n",
      " [0.77097382 0.77562138 0.73163495 0.84348731 0.88395861 0.75981111\n",
      " 0.81221749 0.74470894 0.8284365  0.81061604]\n",
      "\n",
      "The models final average accuracy: 0.8\n"
     ]
    }
   ],
   "source": [
    "# K-Nearest Neighbor(KNN)\n",
    "from sklearn.neighbors import KNeighborsClassifier\n",
    "clf = KNeighborsClassifier(n_neighbors=4)\n",
    "\n",
    "# Printing all the parameters of KNN\n",
    "print(clf)\n",
    "\n",
    "# Model construction using training data\n",
    "KNN=clf.fit(X_train,y_train)\n",
    "prediction=KNN.predict(X_test)\n",
    "\n",
    "# Accuracy measurement for Testing Data\n",
    "from sklearn import metrics\n",
    "print(metrics.classification_report(y_test, prediction))\n",
    "print(metrics.confusion_matrix(y_test, prediction))\n",
    "\n",
    "# Printing the model's overall accuracy\n",
    "F1_Score=metrics.f1_score(y_test, prediction, average='weighted')\n",
    "print('Accuracy of the model on Testing Sample Data:', round(F1_Score,2))\n",
    "\n",
    "# Importing cross validation function from sklearn\n",
    "from sklearn.model_selection import cross_val_score\n",
    "\n",
    "# Operating 5-Fold Cross checking a certain algorithm\n",
    "# passing whole data X and Y because the K-fold will divide the data and decide train/test on its own\n",
    "Accuracy_Values=cross_val_score(KNN, X , y, cv=10, scoring='f1_weighted')\n",
    "print('\\nValues for 10-fold Cross Validation Accuracy:\\n',Accuracy_Values)\n",
    "print('\\nThe models final average accuracy:', round(Accuracy_Values.mean(),2))\n",
    "\n",
    "\n",
    "# In KNN, there is no built-in way to determine the relevance of a feature."
   ]
  },
  {
   "cell_type": "markdown",
   "id": "ea2c64c0",
   "metadata": {},
   "source": [
    "### Support Vector Machine"
   ]
  },
  {
   "cell_type": "code",
   "execution_count": 181,
   "id": "8ebaf6ca",
   "metadata": {},
   "outputs": [
    {
     "name": "stdout",
     "output_type": "stream",
     "text": [
      "SVC(C=10, gamma=0.01)\n",
      "              precision    recall  f1-score   support\n",
      "\n",
      "           0       0.80      0.85      0.83       157\n",
      "           1       0.77      0.70      0.74       111\n",
      "\n",
      "    accuracy                           0.79       268\n",
      "   macro avg       0.79      0.78      0.78       268\n",
      "weighted avg       0.79      0.79      0.79       268\n",
      "\n",
      "[[134  23]\n",
      " [ 33  78]]\n",
      "Accuracy of the model on Testing Sample Data: 0.79\n",
      "\n",
      "Values for 5-fold Cross Validation Accuracy:\n",
      " [0.80419804 0.80247578 0.78518836 0.747241   0.7837266 ]\n",
      "\n",
      "The models final average accuracy: 0.78\n"
     ]
    }
   ],
   "source": [
    "# Implementation of Support Vector Machines(SVM)\n",
    "from sklearn import svm\n",
    "clf = svm.SVC(C=10, kernel='rbf', gamma=0.01)\n",
    "\n",
    "# Printing all the parameters of KNN\n",
    "print(clf)\n",
    "\n",
    "# Model construction using training data\n",
    "SVM=clf.fit(X_train,y_train)\n",
    "prediction=SVM.predict(X_test)\n",
    "\n",
    "# Accuracy measurement for Testing Data\n",
    "from sklearn import metrics\n",
    "print(metrics.classification_report(y_test, prediction))\n",
    "print(metrics.confusion_matrix(y_test, prediction))\n",
    "\n",
    "# Printing the model's overall accuracy\n",
    "F1_Score=metrics.f1_score(y_test, prediction, average='weighted')\n",
    "print('Accuracy of the model on Testing Sample Data:', round(F1_Score,2))\n",
    "\n",
    "# Importing cross validation function from sklearn\n",
    "from sklearn.model_selection import cross_val_score\n",
    "\n",
    "# Operating 5-Fold Cross checking a certain algorithm\n",
    "# passing whole data X and Y because the K-fold will divide the data and decide train/test on its own\n",
    "Accuracy_Values=cross_val_score(SVM, X , y, cv=5, scoring='f1_weighted')\n",
    "print('\\nValues for 5-fold Cross Validation Accuracy:\\n',Accuracy_Values)\n",
    "print('\\nThe models final average accuracy:', round(Accuracy_Values.mean(),2))\n",
    "\n",
    "# The Top 10 Most Important Columns' Feature Importance is Plotted\n",
    "# SVM.coef_, a built-in attribute, only functions with linear kernels."
   ]
  },
  {
   "cell_type": "markdown",
   "id": "d5d3bc36",
   "metadata": {},
   "source": [
    "### Naive Bayes"
   ]
  },
  {
   "cell_type": "code",
   "execution_count": 182,
   "id": "9fc45179",
   "metadata": {},
   "outputs": [
    {
     "name": "stdout",
     "output_type": "stream",
     "text": [
      "GaussianNB()\n",
      "              precision    recall  f1-score   support\n",
      "\n",
      "           0       0.84      0.74      0.79       157\n",
      "           1       0.68      0.80      0.74       111\n",
      "\n",
      "    accuracy                           0.76       268\n",
      "   macro avg       0.76      0.77      0.76       268\n",
      "weighted avg       0.78      0.76      0.77       268\n",
      "\n",
      "[[116  41]\n",
      " [ 22  89]]\n",
      "Accuracy of the model on Testing Sample Data: 0.77\n",
      "\n",
      "Values for 5-fold Cross Validation Accuracy:\n",
      " [0.69940027 0.77106857 0.78223596 0.79775281 0.8025206 ]\n",
      "\n",
      "The models final average accuracy: 0.77\n"
     ]
    }
   ],
   "source": [
    "# Naive Bays\n",
    "from sklearn.naive_bayes import GaussianNB, MultinomialNB\n",
    "\n",
    "# Binomial Classification uses the GaussianNB algorithm.\n",
    "# Multi-class classification use multinomial NB.\n",
    "clf = GaussianNB()\n",
    "\n",
    "# Printing all the parameters of Naive Bayes\n",
    "print(clf)\n",
    "\n",
    "NB=clf.fit(X_train,y_train)\n",
    "prediction=NB.predict(X_test)\n",
    "\n",
    "# Accuracy measurement for Testing Data\n",
    "from sklearn import metrics\n",
    "print(metrics.classification_report(y_test, prediction))\n",
    "print(metrics.confusion_matrix(y_test, prediction))\n",
    "\n",
    "# Printing the model's overall accuracy\n",
    "F1_Score=metrics.f1_score(y_test, prediction, average='weighted')\n",
    "print('Accuracy of the model on Testing Sample Data:', round(F1_Score,2))\n",
    "\n",
    "# Importing cross validation function from sklearn\n",
    "from sklearn.model_selection import cross_val_score\n",
    "\n",
    "# Operating 5-Fold Cross checking a certain algorithm\n",
    "# passing whole data X and Y because the K-fold will divide the data and decide train/test on its own\n",
    "Accuracy_Values=cross_val_score(NB, X , y, cv=5, scoring='f1_weighted')\n",
    "print('\\nValues for 5-fold Cross Validation Accuracy:\\n',Accuracy_Values)\n",
    "print('\\nThe models final average accuracy:', round(Accuracy_Values.mean(),2))"
   ]
  },
  {
   "cell_type": "markdown",
   "id": "d10094f4",
   "metadata": {},
   "source": [
    "## Model Deployment"
   ]
  },
  {
   "cell_type": "markdown",
   "id": "eba69954",
   "metadata": {},
   "source": [
    "We choose the method that gives the best average accuracy based on the aforementioned tests. In this instance, other algorithms have generated similar average accuracy results. So, we are free to select any one of them."
   ]
  },
  {
   "cell_type": "markdown",
   "id": "fe289f04",
   "metadata": {},
   "source": [
    "Since Decision Trees can process this data quite quickly, I've decided to use them as my final model."
   ]
  },
  {
   "cell_type": "markdown",
   "id": "ea232013",
   "metadata": {},
   "source": [
    "The steps below are used to deploy the model.\n",
    "\n",
    "    1) Train the model using all of the given data.\n",
    "    2) The model should be saved as a serialized file that can be kept everywhere.\n",
    "    3) Create a Python function that is integrated with the front end (such as Tableau, a Java website, etc.) and returns the forecast."
   ]
  },
  {
   "cell_type": "markdown",
   "id": "b270c515",
   "metadata": {},
   "source": [
    "## selecting only the most crucial factors"
   ]
  },
  {
   "cell_type": "markdown",
   "id": "59dbefb8",
   "metadata": {},
   "source": [
    "When using the model in production, it is advantageous to use fewer predictors. The model will be less reliant and therefore more stable if you keep fewer predictors."
   ]
  },
  {
   "cell_type": "markdown",
   "id": "1e1bca87",
   "metadata": {},
   "source": [
    "This is crucial, especially when there are a lot of predictor columns in the data."
   ]
  },
  {
   "cell_type": "markdown",
   "id": "1f1cc19e",
   "metadata": {},
   "source": [
    "The most significant predictor factors in this data are age, education_number, hours_per_week, capital_gain, capital.loss, workclass, and marital_status. Because they constantly rank first on the list of variables for each algorithm. Consequently, this final set of predictor variables was chosen."
   ]
  },
  {
   "cell_type": "code",
   "execution_count": 183,
   "id": "014dec10",
   "metadata": {},
   "outputs": [
    {
     "name": "stdout",
     "output_type": "stream",
     "text": [
      "(891, 8)\n",
      "(891,)\n"
     ]
    }
   ],
   "source": [
    "# Separate Target Variable and Predictor Variables\n",
    "Target_Element='Survived'\n",
    "\n",
    "#Based on the variable importance charts of several algorithms, the deployment's final set of predictors are chosen.\n",
    "Predictors=['Fare', 'Sex', 'Parch', 'Pclass']\n",
    "\n",
    "X=Info_ML_Numeric[Pred].values\n",
    "y=Info_ML_Numeric[Target_Element].values\n",
    "\n",
    "### Sandardization of data ###\n",
    "from sklearn.preprocessing import StandardScaler, MinMaxScaler\n",
    "# Select either normalization or standardization.\n",
    "# Min Max Normalization generated superior outcomes for this data.\n",
    "\n",
    "# Select either normalization or standardization.\n",
    "#PredictorScaler=StandardScaler()\n",
    "PredictorScaler=MinMaxScaler()\n",
    "\n",
    "# Keeping the appropriate item on hand for future use\n",
    "PredictorScalerFit=PredictorScaler.fit(X)\n",
    "\n",
    "# Producing X's standardized values\n",
    "X=PredictorScalerFit.transform(X)\n",
    "\n",
    "print(X.shape)\n",
    "print(y.shape)"
   ]
  },
  {
   "cell_type": "markdown",
   "id": "e1dae42a",
   "metadata": {},
   "source": [
    "### Step 1: Retrain the model using all available data."
   ]
  },
  {
   "cell_type": "code",
   "execution_count": 184,
   "id": "56f80cbc",
   "metadata": {},
   "outputs": [],
   "source": [
    "#Decision Trees\n",
    "from sklearn import tree\n",
    "\n",
    "#select from a variety of customizable hyper parameters\n",
    "clf = tree.DecisionTreeClassifier(max_depth=3,criterion='entropy')\n",
    "\n",
    "# Train the model using all available data.\n",
    "FinalDecisionTreeModel=clf.fit(X,y)"
   ]
  },
  {
   "cell_type": "markdown",
   "id": "0b8e28f7",
   "metadata": {},
   "source": [
    "#### comparing the accuracy of the final model with fewer predictors"
   ]
  },
  {
   "cell_type": "code",
   "execution_count": 185,
   "id": "22845fbe",
   "metadata": {},
   "outputs": [
    {
     "name": "stdout",
     "output_type": "stream",
     "text": [
      "\n",
      "Values for 5-fold Cross Validation Accuracy:\n",
      " [0.81355939 0.80106761 0.80106761 0.78351931 0.81018299]\n",
      "\n",
      "The models final average accuracy: 0.8\n"
     ]
    }
   ],
   "source": [
    "# Importing cross validation function from sklearn\n",
    "from sklearn.model_selection import cross_val_score\n",
    "\n",
    "# Operating 5-Fold Cross checking a certain algorithm\n",
    "# passing whole data X and Y because the K-fold will divide the data and decide train/test on its own\n",
    "Accuracy_Values=cross_val_score(FinalDecisionTreeModel, X , y, cv=5, scoring='f1_weighted')\n",
    "print('\\nValues for 5-fold Cross Validation Accuracy:\\n',Accuracy_Values)\n",
    "print('\\nThe models final average accuracy:', round(Accuracy_Values.mean(),2))"
   ]
  },
  {
   "cell_type": "markdown",
   "id": "965ed2ce",
   "metadata": {},
   "source": [
    "### Step 2. Save the model as a serialized file which can be stored anywhere"
   ]
  },
  {
   "cell_type": "code",
   "execution_count": 186,
   "id": "edee2afe",
   "metadata": {},
   "outputs": [
    {
     "name": "stdout",
     "output_type": "stream",
     "text": [
      "The pickle file for the predictive model is located at: C:\\Users\\Vipinchi Nidhi\\Downloads\\Python\n"
     ]
    }
   ],
   "source": [
    "import pickle\n",
    "import os\n",
    "\n",
    "# Pickle library can be used to serialize Python objects for saving.\n",
    "# Now let's save the final version.\n",
    "with open('FinalDecisionTreeModel.pkl', 'wb') as fileWriteStream:\n",
    "    pickle.dump(FinalDecisionTreeModel, fileWriteStream)\n",
    "    # Remember to shut down the filestream!\n",
    "    fileWriteStream.close()\n",
    "    \n",
    "print('The pickle file for the predictive model is located at:',os.getcwd())"
   ]
  },
  {
   "cell_type": "markdown",
   "id": "b0583488",
   "metadata": {},
   "source": [
    "### Step 3. Create a python function"
   ]
  },
  {
   "cell_type": "code",
   "execution_count": 187,
   "id": "46b02944",
   "metadata": {},
   "outputs": [],
   "source": [
    "# Any front-end tool or website can call this function.\n",
    "def FunctionPredictResult(InputData):\n",
    "    import pandas as pd\n",
    "    Num_Inputs=InputData.shape[0]\n",
    "    \n",
    "    # Ensuring that the input data contains the same columns as the data used to train the model.\n",
    "    # Additionally, if standardization/normalization was performed, fresh input must follow suit.\n",
    "    \n",
    "    # Joining the training data and new data\n",
    "    Info_ML=pd.read_pickle('Info_ML.pkl')\n",
    "    InputData=InputData.append(Info_ML)\n",
    "    \n",
    "    # Numerical conversion of the binary nominal variable sex\n",
    "    InputData['Sex'].replace({'female':0, 'male':1}, inplace=True)\n",
    "    \n",
    "    \n",
    "    # producing dummy variables for the remaining nominal variables.\n",
    "    InputData=pd.get_dummies(InputData)\n",
    "            \n",
    "    # Preserving the same arrangement of columns as during model training\n",
    "    Predictors=['Fare', 'Sex', 'Parch', 'Pclass']\n",
    "    \n",
    "    # Producing the model's input values\n",
    "    X=InputData[Predictors].values[0:Num_Inputs]\n",
    "    \n",
    "    # Producing the standardized values of X because it was done during model training as well.\n",
    "    X=PredictorScalerFit.transform(X)\n",
    "    \n",
    "    # Using the pickle file to load the function\n",
    "    import pickle\n",
    "    with open('FinalDecisionTreeModel.pkl', 'rb') as fileReadStream:\n",
    "        PredictionModel=pickle.load(fileReadStream)\n",
    "        # Don't forget to close the filestream!\n",
    "        fileReadStream.close()\n",
    "            \n",
    "    # Prediction-making\n",
    "    Prediction=PredictionModel.predict(X)\n",
    "    PredictionResult=pd.DataFrame(Prediction, columns=['Predicted Status'])\n",
    "    return(PredictionResult)"
   ]
  },
  {
   "cell_type": "code",
   "execution_count": 188,
   "id": "1e833874",
   "metadata": {},
   "outputs": [
    {
     "name": "stdout",
     "output_type": "stream",
     "text": [
      "   Fare     Sex  Parch  Pclass\n",
      "0    71  female      0       1\n",
      "1    50    male      0       3\n"
     ]
    },
    {
     "ename": "ValueError",
     "evalue": "X has 4 features, but MinMaxScaler is expecting 8 features as input.",
     "output_type": "error",
     "traceback": [
      "\u001b[1;31m---------------------------------------------------------------------------\u001b[0m",
      "\u001b[1;31mValueError\u001b[0m                                Traceback (most recent call last)",
      "\u001b[1;32m~\\AppData\\Local\\Temp\\ipykernel_7044\\3287626922.py\u001b[0m in \u001b[0;36m<module>\u001b[1;34m\u001b[0m\n\u001b[0;32m      8\u001b[0m \u001b[1;33m\u001b[0m\u001b[0m\n\u001b[0;32m      9\u001b[0m \u001b[1;31m# Invoking the Function for Prediction\u001b[0m\u001b[1;33m\u001b[0m\u001b[1;33m\u001b[0m\u001b[0m\n\u001b[1;32m---> 10\u001b[1;33m \u001b[0mFunc_Pred_Result\u001b[0m\u001b[1;33m(\u001b[0m\u001b[0mreq_data\u001b[0m\u001b[1;33m=\u001b[0m \u001b[0msample_data_for_Prediction\u001b[0m\u001b[1;33m)\u001b[0m\u001b[1;33m\u001b[0m\u001b[1;33m\u001b[0m\u001b[0m\n\u001b[0m",
      "\u001b[1;32m~\\AppData\\Local\\Temp\\ipykernel_7044\\1382921305.py\u001b[0m in \u001b[0;36mFunc_Pred_Result\u001b[1;34m(req_data)\u001b[0m\n\u001b[0;32m     25\u001b[0m \u001b[1;33m\u001b[0m\u001b[0m\n\u001b[0;32m     26\u001b[0m     \u001b[1;31m# Producing the standardized values of X because it was done during model training as well.\u001b[0m\u001b[1;33m\u001b[0m\u001b[1;33m\u001b[0m\u001b[0m\n\u001b[1;32m---> 27\u001b[1;33m     \u001b[0mX\u001b[0m\u001b[1;33m=\u001b[0m\u001b[0mPredictorScalerFit\u001b[0m\u001b[1;33m.\u001b[0m\u001b[0mtransform\u001b[0m\u001b[1;33m(\u001b[0m\u001b[0mX\u001b[0m\u001b[1;33m)\u001b[0m\u001b[1;33m\u001b[0m\u001b[1;33m\u001b[0m\u001b[0m\n\u001b[0m\u001b[0;32m     28\u001b[0m \u001b[1;33m\u001b[0m\u001b[0m\n\u001b[0;32m     29\u001b[0m     \u001b[1;31m# Using the pickle file to load the function\u001b[0m\u001b[1;33m\u001b[0m\u001b[1;33m\u001b[0m\u001b[0m\n",
      "\u001b[1;32m~\\anaconda31\\lib\\site-packages\\sklearn\\preprocessing\\_data.py\u001b[0m in \u001b[0;36mtransform\u001b[1;34m(self, X)\u001b[0m\n\u001b[0;32m    494\u001b[0m         \u001b[0mcheck_is_fitted\u001b[0m\u001b[1;33m(\u001b[0m\u001b[0mself\u001b[0m\u001b[1;33m)\u001b[0m\u001b[1;33m\u001b[0m\u001b[1;33m\u001b[0m\u001b[0m\n\u001b[0;32m    495\u001b[0m \u001b[1;33m\u001b[0m\u001b[0m\n\u001b[1;32m--> 496\u001b[1;33m         X = self._validate_data(\n\u001b[0m\u001b[0;32m    497\u001b[0m             \u001b[0mX\u001b[0m\u001b[1;33m,\u001b[0m\u001b[1;33m\u001b[0m\u001b[1;33m\u001b[0m\u001b[0m\n\u001b[0;32m    498\u001b[0m             \u001b[0mcopy\u001b[0m\u001b[1;33m=\u001b[0m\u001b[0mself\u001b[0m\u001b[1;33m.\u001b[0m\u001b[0mcopy\u001b[0m\u001b[1;33m,\u001b[0m\u001b[1;33m\u001b[0m\u001b[1;33m\u001b[0m\u001b[0m\n",
      "\u001b[1;32m~\\anaconda31\\lib\\site-packages\\sklearn\\base.py\u001b[0m in \u001b[0;36m_validate_data\u001b[1;34m(self, X, y, reset, validate_separately, **check_params)\u001b[0m\n\u001b[0;32m    583\u001b[0m \u001b[1;33m\u001b[0m\u001b[0m\n\u001b[0;32m    584\u001b[0m         \u001b[1;32mif\u001b[0m \u001b[1;32mnot\u001b[0m \u001b[0mno_val_X\u001b[0m \u001b[1;32mand\u001b[0m \u001b[0mcheck_params\u001b[0m\u001b[1;33m.\u001b[0m\u001b[0mget\u001b[0m\u001b[1;33m(\u001b[0m\u001b[1;34m\"ensure_2d\"\u001b[0m\u001b[1;33m,\u001b[0m \u001b[1;32mTrue\u001b[0m\u001b[1;33m)\u001b[0m\u001b[1;33m:\u001b[0m\u001b[1;33m\u001b[0m\u001b[1;33m\u001b[0m\u001b[0m\n\u001b[1;32m--> 585\u001b[1;33m             \u001b[0mself\u001b[0m\u001b[1;33m.\u001b[0m\u001b[0m_check_n_features\u001b[0m\u001b[1;33m(\u001b[0m\u001b[0mX\u001b[0m\u001b[1;33m,\u001b[0m \u001b[0mreset\u001b[0m\u001b[1;33m=\u001b[0m\u001b[0mreset\u001b[0m\u001b[1;33m)\u001b[0m\u001b[1;33m\u001b[0m\u001b[1;33m\u001b[0m\u001b[0m\n\u001b[0m\u001b[0;32m    586\u001b[0m \u001b[1;33m\u001b[0m\u001b[0m\n\u001b[0;32m    587\u001b[0m         \u001b[1;32mreturn\u001b[0m \u001b[0mout\u001b[0m\u001b[1;33m\u001b[0m\u001b[1;33m\u001b[0m\u001b[0m\n",
      "\u001b[1;32m~\\anaconda31\\lib\\site-packages\\sklearn\\base.py\u001b[0m in \u001b[0;36m_check_n_features\u001b[1;34m(self, X, reset)\u001b[0m\n\u001b[0;32m    398\u001b[0m \u001b[1;33m\u001b[0m\u001b[0m\n\u001b[0;32m    399\u001b[0m         \u001b[1;32mif\u001b[0m \u001b[0mn_features\u001b[0m \u001b[1;33m!=\u001b[0m \u001b[0mself\u001b[0m\u001b[1;33m.\u001b[0m\u001b[0mn_features_in_\u001b[0m\u001b[1;33m:\u001b[0m\u001b[1;33m\u001b[0m\u001b[1;33m\u001b[0m\u001b[0m\n\u001b[1;32m--> 400\u001b[1;33m             raise ValueError(\n\u001b[0m\u001b[0;32m    401\u001b[0m                 \u001b[1;34mf\"X has {n_features} features, but {self.__class__.__name__} \"\u001b[0m\u001b[1;33m\u001b[0m\u001b[1;33m\u001b[0m\u001b[0m\n\u001b[0;32m    402\u001b[0m                 \u001b[1;34mf\"is expecting {self.n_features_in_} features as input.\"\u001b[0m\u001b[1;33m\u001b[0m\u001b[1;33m\u001b[0m\u001b[0m\n",
      "\u001b[1;31mValueError\u001b[0m: X has 4 features, but MinMaxScaler is expecting 8 features as input."
     ]
    }
   ],
   "source": [
    "# Using the function when some loan applications are submitted\n",
    "sample_data_for_Prediction=pd.DataFrame(\n",
    "data=[[71,'female',0, 1],\n",
    "     [50,'male',0, 3]],\n",
    "columns=['Fare', 'Sex', 'Parch', 'Pclass'])\n",
    "\n",
    "print(sample_data_for_Prediction)\n",
    "\n",
    "# Invoking the Function for Prediction\n",
    "Func_Pred_Result(req_data= sample_data_for_Prediction)"
   ]
  },
  {
   "cell_type": "code",
   "execution_count": null,
   "id": "3925e1e7",
   "metadata": {},
   "outputs": [],
   "source": []
  }
 ],
 "metadata": {
  "kernelspec": {
   "display_name": "Python 3 (ipykernel)",
   "language": "python",
   "name": "python3"
  },
  "language_info": {
   "codemirror_mode": {
    "name": "ipython",
    "version": 3
   },
   "file_extension": ".py",
   "mimetype": "text/x-python",
   "name": "python",
   "nbconvert_exporter": "python",
   "pygments_lexer": "ipython3",
   "version": "3.9.13"
  }
 },
 "nbformat": 4,
 "nbformat_minor": 5
}
